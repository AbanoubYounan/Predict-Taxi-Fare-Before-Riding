{
 "cells": [
  {
   "cell_type": "markdown",
   "id": "42b3fbb7",
   "metadata": {},
   "source": [
    "# In this notbook we will make a smaller sample from 39.7 Millions row of 2022 New York yellow Taxi trips."
   ]
  },
  {
   "cell_type": "code",
   "execution_count": 1,
   "id": "db4130a7",
   "metadata": {},
   "outputs": [],
   "source": [
    "# Importing Important Libraries\n",
    "import pandas as pd\n",
    "import random"
   ]
  },
  {
   "cell_type": "code",
   "execution_count": 2,
   "id": "666541c5",
   "metadata": {},
   "outputs": [],
   "source": [
    "# Global Variables\n",
    "random_seed = 42"
   ]
  },
  {
   "cell_type": "code",
   "execution_count": 3,
   "id": "4e6c9301",
   "metadata": {},
   "outputs": [],
   "source": [
    "# We set random seed to ensure that results are reproducible.\n",
    "random.seed(random_seed)"
   ]
  },
  {
   "cell_type": "code",
   "execution_count": 4,
   "id": "dfb8b1b7",
   "metadata": {},
   "outputs": [],
   "source": [
    "# The Number of Rows in our large CSV file (approximately)\n",
    "n = 39700000\n",
    "# The Sample Size (approximately)\n",
    "s = 1000000\n",
    "# Make random list of indexes to skip it from the large dataset Because Pandas read_csv function doesn't have keeprows\n",
    "# argument Instead it has skiprows argument\n",
    "skip_rows = sorted(random.sample(range(1,n),(n-s)))"
   ]
  },
  {
   "cell_type": "code",
   "execution_count": 5,
   "id": "4fe47b7c",
   "metadata": {},
   "outputs": [
    {
     "data": {
      "text/plain": [
       "(998859, 19)"
      ]
     },
     "execution_count": 5,
     "metadata": {},
     "output_type": "execute_result"
    }
   ],
   "source": [
    "# Reading our big Dataset and skip rows with indexes equal to skip_rows list\n",
    "df = pd.read_csv('2022_Yellow_Taxi_Trip_Data.csv', skiprows = skip_rows)\n",
    "df.shape"
   ]
  },
  {
   "cell_type": "code",
   "execution_count": 6,
   "id": "5d315382",
   "metadata": {},
   "outputs": [
    {
     "data": {
      "text/html": [
       "<div>\n",
       "<style scoped>\n",
       "    .dataframe tbody tr th:only-of-type {\n",
       "        vertical-align: middle;\n",
       "    }\n",
       "\n",
       "    .dataframe tbody tr th {\n",
       "        vertical-align: top;\n",
       "    }\n",
       "\n",
       "    .dataframe thead th {\n",
       "        text-align: right;\n",
       "    }\n",
       "</style>\n",
       "<table border=\"1\" class=\"dataframe\">\n",
       "  <thead>\n",
       "    <tr style=\"text-align: right;\">\n",
       "      <th></th>\n",
       "      <th>VendorID</th>\n",
       "      <th>tpep_pickup_datetime</th>\n",
       "      <th>tpep_dropoff_datetime</th>\n",
       "      <th>passenger_count</th>\n",
       "      <th>trip_distance</th>\n",
       "      <th>RatecodeID</th>\n",
       "      <th>store_and_fwd_flag</th>\n",
       "      <th>PULocationID</th>\n",
       "      <th>DOLocationID</th>\n",
       "      <th>payment_type</th>\n",
       "      <th>fare_amount</th>\n",
       "      <th>extra</th>\n",
       "      <th>mta_tax</th>\n",
       "      <th>tip_amount</th>\n",
       "      <th>tolls_amount</th>\n",
       "      <th>improvement_surcharge</th>\n",
       "      <th>total_amount</th>\n",
       "      <th>congestion_surcharge</th>\n",
       "      <th>airport_fee</th>\n",
       "    </tr>\n",
       "  </thead>\n",
       "  <tbody>\n",
       "    <tr>\n",
       "      <th>0</th>\n",
       "      <td>2</td>\n",
       "      <td>01/01/2022 12:40:12 AM</td>\n",
       "      <td>01/01/2022 01:07:08 AM</td>\n",
       "      <td>1.0</td>\n",
       "      <td>5.43</td>\n",
       "      <td>1.0</td>\n",
       "      <td>N</td>\n",
       "      <td>68</td>\n",
       "      <td>263</td>\n",
       "      <td>1</td>\n",
       "      <td>21.0</td>\n",
       "      <td>0.5</td>\n",
       "      <td>0.5</td>\n",
       "      <td>4.00</td>\n",
       "      <td>0.0</td>\n",
       "      <td>0.3</td>\n",
       "      <td>28.80</td>\n",
       "      <td>2.5</td>\n",
       "      <td>0.0</td>\n",
       "    </tr>\n",
       "    <tr>\n",
       "      <th>1</th>\n",
       "      <td>1</td>\n",
       "      <td>01/01/2022 12:31:53 AM</td>\n",
       "      <td>01/01/2022 12:36:31 AM</td>\n",
       "      <td>0.0</td>\n",
       "      <td>1.30</td>\n",
       "      <td>1.0</td>\n",
       "      <td>N</td>\n",
       "      <td>140</td>\n",
       "      <td>229</td>\n",
       "      <td>1</td>\n",
       "      <td>6.0</td>\n",
       "      <td>3.0</td>\n",
       "      <td>0.5</td>\n",
       "      <td>2.90</td>\n",
       "      <td>0.0</td>\n",
       "      <td>0.3</td>\n",
       "      <td>12.70</td>\n",
       "      <td>2.5</td>\n",
       "      <td>0.0</td>\n",
       "    </tr>\n",
       "    <tr>\n",
       "      <th>2</th>\n",
       "      <td>2</td>\n",
       "      <td>01/01/2022 12:43:07 AM</td>\n",
       "      <td>01/01/2022 12:51:17 AM</td>\n",
       "      <td>1.0</td>\n",
       "      <td>1.86</td>\n",
       "      <td>1.0</td>\n",
       "      <td>N</td>\n",
       "      <td>239</td>\n",
       "      <td>237</td>\n",
       "      <td>1</td>\n",
       "      <td>8.5</td>\n",
       "      <td>0.5</td>\n",
       "      <td>0.5</td>\n",
       "      <td>2.46</td>\n",
       "      <td>0.0</td>\n",
       "      <td>0.3</td>\n",
       "      <td>14.76</td>\n",
       "      <td>2.5</td>\n",
       "      <td>0.0</td>\n",
       "    </tr>\n",
       "    <tr>\n",
       "      <th>3</th>\n",
       "      <td>2</td>\n",
       "      <td>01/01/2022 12:36:17 AM</td>\n",
       "      <td>01/01/2022 12:41:48 AM</td>\n",
       "      <td>2.0</td>\n",
       "      <td>1.30</td>\n",
       "      <td>1.0</td>\n",
       "      <td>N</td>\n",
       "      <td>249</td>\n",
       "      <td>90</td>\n",
       "      <td>1</td>\n",
       "      <td>6.0</td>\n",
       "      <td>0.5</td>\n",
       "      <td>0.5</td>\n",
       "      <td>0.00</td>\n",
       "      <td>0.0</td>\n",
       "      <td>0.3</td>\n",
       "      <td>9.80</td>\n",
       "      <td>2.5</td>\n",
       "      <td>0.0</td>\n",
       "    </tr>\n",
       "    <tr>\n",
       "      <th>4</th>\n",
       "      <td>2</td>\n",
       "      <td>01/01/2022 12:55:14 AM</td>\n",
       "      <td>01/01/2022 01:11:18 AM</td>\n",
       "      <td>1.0</td>\n",
       "      <td>4.58</td>\n",
       "      <td>1.0</td>\n",
       "      <td>N</td>\n",
       "      <td>161</td>\n",
       "      <td>24</td>\n",
       "      <td>1</td>\n",
       "      <td>16.0</td>\n",
       "      <td>0.5</td>\n",
       "      <td>0.5</td>\n",
       "      <td>3.96</td>\n",
       "      <td>0.0</td>\n",
       "      <td>0.3</td>\n",
       "      <td>23.76</td>\n",
       "      <td>2.5</td>\n",
       "      <td>0.0</td>\n",
       "    </tr>\n",
       "  </tbody>\n",
       "</table>\n",
       "</div>"
      ],
      "text/plain": [
       "   VendorID    tpep_pickup_datetime   tpep_dropoff_datetime  passenger_count  \\\n",
       "0         2  01/01/2022 12:40:12 AM  01/01/2022 01:07:08 AM              1.0   \n",
       "1         1  01/01/2022 12:31:53 AM  01/01/2022 12:36:31 AM              0.0   \n",
       "2         2  01/01/2022 12:43:07 AM  01/01/2022 12:51:17 AM              1.0   \n",
       "3         2  01/01/2022 12:36:17 AM  01/01/2022 12:41:48 AM              2.0   \n",
       "4         2  01/01/2022 12:55:14 AM  01/01/2022 01:11:18 AM              1.0   \n",
       "\n",
       "   trip_distance  RatecodeID store_and_fwd_flag  PULocationID  DOLocationID  \\\n",
       "0           5.43         1.0                  N            68           263   \n",
       "1           1.30         1.0                  N           140           229   \n",
       "2           1.86         1.0                  N           239           237   \n",
       "3           1.30         1.0                  N           249            90   \n",
       "4           4.58         1.0                  N           161            24   \n",
       "\n",
       "   payment_type  fare_amount  extra  mta_tax  tip_amount  tolls_amount  \\\n",
       "0             1         21.0    0.5      0.5        4.00           0.0   \n",
       "1             1          6.0    3.0      0.5        2.90           0.0   \n",
       "2             1          8.5    0.5      0.5        2.46           0.0   \n",
       "3             1          6.0    0.5      0.5        0.00           0.0   \n",
       "4             1         16.0    0.5      0.5        3.96           0.0   \n",
       "\n",
       "   improvement_surcharge  total_amount  congestion_surcharge  airport_fee  \n",
       "0                    0.3         28.80                   2.5          0.0  \n",
       "1                    0.3         12.70                   2.5          0.0  \n",
       "2                    0.3         14.76                   2.5          0.0  \n",
       "3                    0.3          9.80                   2.5          0.0  \n",
       "4                    0.3         23.76                   2.5          0.0  "
      ]
     },
     "execution_count": 6,
     "metadata": {},
     "output_type": "execute_result"
    }
   ],
   "source": [
    "df.head()"
   ]
  },
  {
   "cell_type": "code",
   "execution_count": 7,
   "id": "fc59cf70",
   "metadata": {},
   "outputs": [],
   "source": [
    "# Saving our random sample to csv file to further analysis\n",
    "df.to_csv('Random_Sample_2022_Yellow_Taxi_Trip_Data.csv')"
   ]
  }
 ],
 "metadata": {
  "kernelspec": {
   "display_name": "Python 3 (ipykernel)",
   "language": "python",
   "name": "python3"
  },
  "language_info": {
   "codemirror_mode": {
    "name": "ipython",
    "version": 3
   },
   "file_extension": ".py",
   "mimetype": "text/x-python",
   "name": "python",
   "nbconvert_exporter": "python",
   "pygments_lexer": "ipython3",
   "version": "3.9.12"
  }
 },
 "nbformat": 4,
 "nbformat_minor": 5
}
