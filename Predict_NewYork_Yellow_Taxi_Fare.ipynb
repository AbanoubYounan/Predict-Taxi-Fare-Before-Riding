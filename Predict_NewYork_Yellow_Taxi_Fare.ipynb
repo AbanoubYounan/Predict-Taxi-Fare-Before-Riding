{
 "cells": [
  {
   "cell_type": "markdown",
   "id": "5e165f7f",
   "metadata": {},
   "source": [
    "# **EXECUTIVE SUMMARY**    \n",
    "The objective of this project is to build a machine learning model that will predict taxicab trip fare before riding based on 2022 NYC Yellow Cab trip record data (https://data.cityofnewyork.us/Transportation/2022-Yellow-Taxi-Trip-Data/qp3b-zxtp).\n",
    "To that end, I will demonstrate the phases of the data science pipeline:\n",
    "1. **[Random Sampling](#sampl)** Make a Random Sample from the large original CSV file with (39.7 Milions rows & Size More than 3.5 GB) to make the analysis and modeling process more efficient.\n",
    "2. **[Exploratory Data Analysis-EDA](#eda)**\n",
    "    1. **[Discovering & Structuring](#discStruc)** Check out the overall shape, size, and content of the dataset and transform the data into a usable format for analysis.\n",
    "    2. **[Cleaning](#clean)**: Check for outliers, missing data, and needs for conversions or transformations.\n",
    "    3. **[Feature Engineering](#fEng)**:\n",
    "        1. **[Feature Transformation](#fTrans)**\n",
    "        2. **[Feature Selection](#fSel)**\n",
    "        3. **[Feature Engineering](#fEng2)**\n",
    "    4. **[Validating](#Valid)** Validate Data to ensure it's ready for modeling phase.\n",
    "    5. **[Presenting](#present)**: Presenting EDA findings.\n",
    "3. **[Algorithm Development](#ml)**: Train, test, and refine various models to predict the target variable.  Given that our dependent variable `trip_duration` is a continuous outcome,  the regression algorithms to be protoyped are as follows:\n",
    " - [Multivarite Linear Regression](#linear)  \n",
    "\n",
    "\n",
    "4. **[Model Deployment](#deployment)**: Apply the best performing model to the test set for contest submission.\n",
    "\n",
    "\n",
    "# **ABOUT THE DATA**  \n",
    "The  dataset is based on the 2022 NYC Yellow Cab trip record data. Its variables are as follows:\n",
    "\n",
    "| **Variable Name** | **Description** | **Type**|          \n",
    "| :------------------ |:-------------|:-------------|   \n",
    "|vendor_id    | A code indicating the TPEP provider that provided the record.     | Number|\n",
    "|pickup_datetime |  date and time when the meter was engaged|  Data & Time|\n",
    "|dropoff_datetime|  date and time when the meter was disengaged|  Data & Time|\n",
    "|passenger_count|  the number of passengers in the vehicle (driver entered value)|  Number|\n",
    "|trip_distance |  The elapsed trip distance in miles reported by the taximeter.| Number|\n",
    "|RatecodeID | The final rate code in effect at the end of the trip. | Number |\n",
    "|PULocationID | TLC Taxi Zone in which the taximeter was engaged|  Number |\n",
    "|DOLocationID  |   TLC Taxi Zone in which the taximeter was disengaged|  Number |\n",
    "|store_and_fwd_flag | This flag indicates whether the trip record was held in vehicle memory before sending to the vendor because the vehicle did not have a connection to the server - Y=store and forward; N=not a store and forward trip   | Plain-text|\n",
    "|payment_type | A numeric code signifying how the passenger paid for the trip. | Number |\n",
    "|fare_amount | \tThe time-and-distance fare calculated by the meter. | Number |\n",
    "|extra | Miscellaneous extras and surcharges. | Number |\n",
    "|mta_tax | \tTax that is automatically triggered based on the metered rate in use.| Number |\n",
    "|tip_amount | This field is automatically populated for credit card tips. Cash tips are not included. | Number|\n",
    "|tolls_amount | Total amount of all tolls paid in trip. | Number |\n",
    "|improvement_surcharge | Improvement surcharge assessed trips at the flag drop. The improvement surcharge began being levied in 2015. | Number |\n",
    "|total_amount | The total amount charged to passengers. Does not include cash tips. | Number|\n",
    "|congestion_surcharge | Total amount collected in trip for NYS congestion surcharge. | Number |\n",
    "|airport_fee | For pick up only at LaGuardia and John F. Kennedy Airports. | Number |\n"
   ]
  },
  {
   "cell_type": "markdown",
   "id": "73c02faf",
   "metadata": {},
   "source": [
    "## <a id=\"sampl\"></a> **1.Random Sampling:**\n",
    "- The original CSV file contain 3.97 milions record (more than 3.5 GB), So to make the Analysis and Modeling process more efficient we will get a random sample with (1 milion rocord) to work in it.\n",
    "\n",
    "**I completed this step in (Random Sampling from Large CSV file.ipynb) notebook.**"
   ]
  },
  {
   "cell_type": "markdown",
   "id": "4b79d885",
   "metadata": {},
   "source": [
    "## <a id=\"eda\"></a>**2. EDA**"
   ]
  },
  {
   "cell_type": "code",
   "execution_count": 1,
   "id": "c816e5da",
   "metadata": {},
   "outputs": [],
   "source": [
    "# importing Important libraries\n",
    "import warnings\n",
    "import datetime\n",
    "warnings.filterwarnings(\"ignore\")\n",
    "\n",
    "# Import useful liberires \n",
    "import pandas as pd\n",
    "import numpy as np\n",
    "\n",
    "# Visualision Libraries\n",
    "import matplotlib.pyplot as plt\n",
    "import seaborn as sns"
   ]
  },
  {
   "cell_type": "markdown",
   "id": "871100a4",
   "metadata": {},
   "source": [
    "### 2.a <a id='discStruc'></a> **Discovering & Structuring**"
   ]
  },
  {
   "cell_type": "code",
   "execution_count": 2,
   "id": "258e4f98",
   "metadata": {},
   "outputs": [
    {
     "data": {
      "text/html": [
       "<div>\n",
       "<style scoped>\n",
       "    .dataframe tbody tr th:only-of-type {\n",
       "        vertical-align: middle;\n",
       "    }\n",
       "\n",
       "    .dataframe tbody tr th {\n",
       "        vertical-align: top;\n",
       "    }\n",
       "\n",
       "    .dataframe thead th {\n",
       "        text-align: right;\n",
       "    }\n",
       "</style>\n",
       "<table border=\"1\" class=\"dataframe\">\n",
       "  <thead>\n",
       "    <tr style=\"text-align: right;\">\n",
       "      <th></th>\n",
       "      <th>Unnamed: 0</th>\n",
       "      <th>VendorID</th>\n",
       "      <th>tpep_pickup_datetime</th>\n",
       "      <th>tpep_dropoff_datetime</th>\n",
       "      <th>passenger_count</th>\n",
       "      <th>trip_distance</th>\n",
       "      <th>RatecodeID</th>\n",
       "      <th>store_and_fwd_flag</th>\n",
       "      <th>PULocationID</th>\n",
       "      <th>DOLocationID</th>\n",
       "      <th>payment_type</th>\n",
       "      <th>fare_amount</th>\n",
       "      <th>extra</th>\n",
       "      <th>mta_tax</th>\n",
       "      <th>tip_amount</th>\n",
       "      <th>tolls_amount</th>\n",
       "      <th>improvement_surcharge</th>\n",
       "      <th>total_amount</th>\n",
       "      <th>congestion_surcharge</th>\n",
       "      <th>airport_fee</th>\n",
       "    </tr>\n",
       "  </thead>\n",
       "  <tbody>\n",
       "    <tr>\n",
       "      <th>0</th>\n",
       "      <td>0</td>\n",
       "      <td>2</td>\n",
       "      <td>01/01/2022 12:40:12 AM</td>\n",
       "      <td>01/01/2022 01:07:08 AM</td>\n",
       "      <td>1.0</td>\n",
       "      <td>5.43</td>\n",
       "      <td>1.0</td>\n",
       "      <td>N</td>\n",
       "      <td>68</td>\n",
       "      <td>263</td>\n",
       "      <td>1</td>\n",
       "      <td>21.0</td>\n",
       "      <td>0.5</td>\n",
       "      <td>0.5</td>\n",
       "      <td>4.00</td>\n",
       "      <td>0.0</td>\n",
       "      <td>0.3</td>\n",
       "      <td>28.80</td>\n",
       "      <td>2.5</td>\n",
       "      <td>0.0</td>\n",
       "    </tr>\n",
       "    <tr>\n",
       "      <th>1</th>\n",
       "      <td>1</td>\n",
       "      <td>1</td>\n",
       "      <td>01/01/2022 12:31:53 AM</td>\n",
       "      <td>01/01/2022 12:36:31 AM</td>\n",
       "      <td>0.0</td>\n",
       "      <td>1.30</td>\n",
       "      <td>1.0</td>\n",
       "      <td>N</td>\n",
       "      <td>140</td>\n",
       "      <td>229</td>\n",
       "      <td>1</td>\n",
       "      <td>6.0</td>\n",
       "      <td>3.0</td>\n",
       "      <td>0.5</td>\n",
       "      <td>2.90</td>\n",
       "      <td>0.0</td>\n",
       "      <td>0.3</td>\n",
       "      <td>12.70</td>\n",
       "      <td>2.5</td>\n",
       "      <td>0.0</td>\n",
       "    </tr>\n",
       "    <tr>\n",
       "      <th>2</th>\n",
       "      <td>2</td>\n",
       "      <td>2</td>\n",
       "      <td>01/01/2022 12:43:07 AM</td>\n",
       "      <td>01/01/2022 12:51:17 AM</td>\n",
       "      <td>1.0</td>\n",
       "      <td>1.86</td>\n",
       "      <td>1.0</td>\n",
       "      <td>N</td>\n",
       "      <td>239</td>\n",
       "      <td>237</td>\n",
       "      <td>1</td>\n",
       "      <td>8.5</td>\n",
       "      <td>0.5</td>\n",
       "      <td>0.5</td>\n",
       "      <td>2.46</td>\n",
       "      <td>0.0</td>\n",
       "      <td>0.3</td>\n",
       "      <td>14.76</td>\n",
       "      <td>2.5</td>\n",
       "      <td>0.0</td>\n",
       "    </tr>\n",
       "    <tr>\n",
       "      <th>3</th>\n",
       "      <td>3</td>\n",
       "      <td>2</td>\n",
       "      <td>01/01/2022 12:36:17 AM</td>\n",
       "      <td>01/01/2022 12:41:48 AM</td>\n",
       "      <td>2.0</td>\n",
       "      <td>1.30</td>\n",
       "      <td>1.0</td>\n",
       "      <td>N</td>\n",
       "      <td>249</td>\n",
       "      <td>90</td>\n",
       "      <td>1</td>\n",
       "      <td>6.0</td>\n",
       "      <td>0.5</td>\n",
       "      <td>0.5</td>\n",
       "      <td>0.00</td>\n",
       "      <td>0.0</td>\n",
       "      <td>0.3</td>\n",
       "      <td>9.80</td>\n",
       "      <td>2.5</td>\n",
       "      <td>0.0</td>\n",
       "    </tr>\n",
       "    <tr>\n",
       "      <th>4</th>\n",
       "      <td>4</td>\n",
       "      <td>2</td>\n",
       "      <td>01/01/2022 12:55:14 AM</td>\n",
       "      <td>01/01/2022 01:11:18 AM</td>\n",
       "      <td>1.0</td>\n",
       "      <td>4.58</td>\n",
       "      <td>1.0</td>\n",
       "      <td>N</td>\n",
       "      <td>161</td>\n",
       "      <td>24</td>\n",
       "      <td>1</td>\n",
       "      <td>16.0</td>\n",
       "      <td>0.5</td>\n",
       "      <td>0.5</td>\n",
       "      <td>3.96</td>\n",
       "      <td>0.0</td>\n",
       "      <td>0.3</td>\n",
       "      <td>23.76</td>\n",
       "      <td>2.5</td>\n",
       "      <td>0.0</td>\n",
       "    </tr>\n",
       "  </tbody>\n",
       "</table>\n",
       "</div>"
      ],
      "text/plain": [
       "   Unnamed: 0  VendorID    tpep_pickup_datetime   tpep_dropoff_datetime  \\\n",
       "0           0         2  01/01/2022 12:40:12 AM  01/01/2022 01:07:08 AM   \n",
       "1           1         1  01/01/2022 12:31:53 AM  01/01/2022 12:36:31 AM   \n",
       "2           2         2  01/01/2022 12:43:07 AM  01/01/2022 12:51:17 AM   \n",
       "3           3         2  01/01/2022 12:36:17 AM  01/01/2022 12:41:48 AM   \n",
       "4           4         2  01/01/2022 12:55:14 AM  01/01/2022 01:11:18 AM   \n",
       "\n",
       "   passenger_count  trip_distance  RatecodeID store_and_fwd_flag  \\\n",
       "0              1.0           5.43         1.0                  N   \n",
       "1              0.0           1.30         1.0                  N   \n",
       "2              1.0           1.86         1.0                  N   \n",
       "3              2.0           1.30         1.0                  N   \n",
       "4              1.0           4.58         1.0                  N   \n",
       "\n",
       "   PULocationID  DOLocationID  payment_type  fare_amount  extra  mta_tax  \\\n",
       "0            68           263             1         21.0    0.5      0.5   \n",
       "1           140           229             1          6.0    3.0      0.5   \n",
       "2           239           237             1          8.5    0.5      0.5   \n",
       "3           249            90             1          6.0    0.5      0.5   \n",
       "4           161            24             1         16.0    0.5      0.5   \n",
       "\n",
       "   tip_amount  tolls_amount  improvement_surcharge  total_amount  \\\n",
       "0        4.00           0.0                    0.3         28.80   \n",
       "1        2.90           0.0                    0.3         12.70   \n",
       "2        2.46           0.0                    0.3         14.76   \n",
       "3        0.00           0.0                    0.3          9.80   \n",
       "4        3.96           0.0                    0.3         23.76   \n",
       "\n",
       "   congestion_surcharge  airport_fee  \n",
       "0                   2.5          0.0  \n",
       "1                   2.5          0.0  \n",
       "2                   2.5          0.0  \n",
       "3                   2.5          0.0  \n",
       "4                   2.5          0.0  "
      ]
     },
     "execution_count": 2,
     "metadata": {},
     "output_type": "execute_result"
    }
   ],
   "source": [
    "# Load our DataFrame from The Sample Data\n",
    "df0 = pd.read_csv('Random_Sample_2022_Yellow_Taxi_Trip_Data.csv')\n",
    "df0.head()"
   ]
  },
  {
   "cell_type": "code",
   "execution_count": 3,
   "id": "9ee8042e",
   "metadata": {},
   "outputs": [
    {
     "name": "stdout",
     "output_type": "stream",
     "text": [
      "<class 'pandas.core.frame.DataFrame'>\n",
      "RangeIndex: 998859 entries, 0 to 998858\n",
      "Data columns (total 20 columns):\n",
      " #   Column                 Non-Null Count   Dtype  \n",
      "---  ------                 --------------   -----  \n",
      " 0   Unnamed: 0             998859 non-null  int64  \n",
      " 1   VendorID               998859 non-null  int64  \n",
      " 2   tpep_pickup_datetime   998859 non-null  object \n",
      " 3   tpep_dropoff_datetime  998859 non-null  object \n",
      " 4   passenger_count        964497 non-null  float64\n",
      " 5   trip_distance          998859 non-null  float64\n",
      " 6   RatecodeID             964497 non-null  float64\n",
      " 7   store_and_fwd_flag     964497 non-null  object \n",
      " 8   PULocationID           998859 non-null  int64  \n",
      " 9   DOLocationID           998859 non-null  int64  \n",
      " 10  payment_type           998859 non-null  int64  \n",
      " 11  fare_amount            998859 non-null  float64\n",
      " 12  extra                  998859 non-null  float64\n",
      " 13  mta_tax                998859 non-null  float64\n",
      " 14  tip_amount             998859 non-null  float64\n",
      " 15  tolls_amount           998859 non-null  float64\n",
      " 16  improvement_surcharge  998859 non-null  float64\n",
      " 17  total_amount           998859 non-null  float64\n",
      " 18  congestion_surcharge   964497 non-null  float64\n",
      " 19  airport_fee            964497 non-null  float64\n",
      "dtypes: float64(12), int64(5), object(3)\n",
      "memory usage: 152.4+ MB\n"
     ]
    }
   ],
   "source": [
    "df0.info()"
   ]
  },
  {
   "cell_type": "markdown",
   "id": "23f77b42",
   "metadata": {},
   "source": [
    "Our Data has 998859 (~= 1 milion record) and 20 columns, and Notice (passenger_count, RatecodeID, store_and_fwd_flag, congestion_surcharge, airport_fee) have 964497 non-null rows, So There are 34362 rows have missing values in this 5 features, We will take care of that later."
   ]
  },
  {
   "cell_type": "markdown",
   "id": "23dd4d2a",
   "metadata": {},
   "source": [
    "**After reading data documentation:**\n",
    "\n",
    "1- I have noticed that there are some columns irrelevent to our objective, so we will drop it to simplify and increase efficency of our analysis and modeling.\n",
    "\n",
    "- First we will drop \"Unnamed:0\" because it's like the index of records.\n",
    "- Secondaly we will drop (\"extra\", \"mta_tax\", \"tip_amount\", \"tolls_amount\", \"improvement_surcharge\", \"total_amount\", \"congestion_surcharge\", \"airport_fee\"), Because they are addational amount based in some laws, and doesn't affect the fare amount, but they are added to it, to form the total amount."
   ]
  },
  {
   "cell_type": "code",
   "execution_count": 4,
   "id": "44e26733",
   "metadata": {},
   "outputs": [
    {
     "data": {
      "text/html": [
       "<div>\n",
       "<style scoped>\n",
       "    .dataframe tbody tr th:only-of-type {\n",
       "        vertical-align: middle;\n",
       "    }\n",
       "\n",
       "    .dataframe tbody tr th {\n",
       "        vertical-align: top;\n",
       "    }\n",
       "\n",
       "    .dataframe thead th {\n",
       "        text-align: right;\n",
       "    }\n",
       "</style>\n",
       "<table border=\"1\" class=\"dataframe\">\n",
       "  <thead>\n",
       "    <tr style=\"text-align: right;\">\n",
       "      <th></th>\n",
       "      <th>VendorID</th>\n",
       "      <th>tpep_pickup_datetime</th>\n",
       "      <th>tpep_dropoff_datetime</th>\n",
       "      <th>passenger_count</th>\n",
       "      <th>trip_distance</th>\n",
       "      <th>RatecodeID</th>\n",
       "      <th>store_and_fwd_flag</th>\n",
       "      <th>PULocationID</th>\n",
       "      <th>DOLocationID</th>\n",
       "      <th>payment_type</th>\n",
       "      <th>fare_amount</th>\n",
       "    </tr>\n",
       "  </thead>\n",
       "  <tbody>\n",
       "    <tr>\n",
       "      <th>0</th>\n",
       "      <td>2</td>\n",
       "      <td>01/01/2022 12:40:12 AM</td>\n",
       "      <td>01/01/2022 01:07:08 AM</td>\n",
       "      <td>1.0</td>\n",
       "      <td>5.43</td>\n",
       "      <td>1.0</td>\n",
       "      <td>N</td>\n",
       "      <td>68</td>\n",
       "      <td>263</td>\n",
       "      <td>1</td>\n",
       "      <td>21.0</td>\n",
       "    </tr>\n",
       "    <tr>\n",
       "      <th>1</th>\n",
       "      <td>1</td>\n",
       "      <td>01/01/2022 12:31:53 AM</td>\n",
       "      <td>01/01/2022 12:36:31 AM</td>\n",
       "      <td>0.0</td>\n",
       "      <td>1.30</td>\n",
       "      <td>1.0</td>\n",
       "      <td>N</td>\n",
       "      <td>140</td>\n",
       "      <td>229</td>\n",
       "      <td>1</td>\n",
       "      <td>6.0</td>\n",
       "    </tr>\n",
       "    <tr>\n",
       "      <th>2</th>\n",
       "      <td>2</td>\n",
       "      <td>01/01/2022 12:43:07 AM</td>\n",
       "      <td>01/01/2022 12:51:17 AM</td>\n",
       "      <td>1.0</td>\n",
       "      <td>1.86</td>\n",
       "      <td>1.0</td>\n",
       "      <td>N</td>\n",
       "      <td>239</td>\n",
       "      <td>237</td>\n",
       "      <td>1</td>\n",
       "      <td>8.5</td>\n",
       "    </tr>\n",
       "    <tr>\n",
       "      <th>3</th>\n",
       "      <td>2</td>\n",
       "      <td>01/01/2022 12:36:17 AM</td>\n",
       "      <td>01/01/2022 12:41:48 AM</td>\n",
       "      <td>2.0</td>\n",
       "      <td>1.30</td>\n",
       "      <td>1.0</td>\n",
       "      <td>N</td>\n",
       "      <td>249</td>\n",
       "      <td>90</td>\n",
       "      <td>1</td>\n",
       "      <td>6.0</td>\n",
       "    </tr>\n",
       "    <tr>\n",
       "      <th>4</th>\n",
       "      <td>2</td>\n",
       "      <td>01/01/2022 12:55:14 AM</td>\n",
       "      <td>01/01/2022 01:11:18 AM</td>\n",
       "      <td>1.0</td>\n",
       "      <td>4.58</td>\n",
       "      <td>1.0</td>\n",
       "      <td>N</td>\n",
       "      <td>161</td>\n",
       "      <td>24</td>\n",
       "      <td>1</td>\n",
       "      <td>16.0</td>\n",
       "    </tr>\n",
       "  </tbody>\n",
       "</table>\n",
       "</div>"
      ],
      "text/plain": [
       "   VendorID    tpep_pickup_datetime   tpep_dropoff_datetime  passenger_count  \\\n",
       "0         2  01/01/2022 12:40:12 AM  01/01/2022 01:07:08 AM              1.0   \n",
       "1         1  01/01/2022 12:31:53 AM  01/01/2022 12:36:31 AM              0.0   \n",
       "2         2  01/01/2022 12:43:07 AM  01/01/2022 12:51:17 AM              1.0   \n",
       "3         2  01/01/2022 12:36:17 AM  01/01/2022 12:41:48 AM              2.0   \n",
       "4         2  01/01/2022 12:55:14 AM  01/01/2022 01:11:18 AM              1.0   \n",
       "\n",
       "   trip_distance  RatecodeID store_and_fwd_flag  PULocationID  DOLocationID  \\\n",
       "0           5.43         1.0                  N            68           263   \n",
       "1           1.30         1.0                  N           140           229   \n",
       "2           1.86         1.0                  N           239           237   \n",
       "3           1.30         1.0                  N           249            90   \n",
       "4           4.58         1.0                  N           161            24   \n",
       "\n",
       "   payment_type  fare_amount  \n",
       "0             1         21.0  \n",
       "1             1          6.0  \n",
       "2             1          8.5  \n",
       "3             1          6.0  \n",
       "4             1         16.0  "
      ]
     },
     "execution_count": 4,
     "metadata": {},
     "output_type": "execute_result"
    }
   ],
   "source": [
    "# Droping irrelevant features\n",
    "df0.drop(columns=[\"Unnamed: 0\",\"extra\", \"mta_tax\", \"tip_amount\", \"tolls_amount\", \"improvement_surcharge\", \"total_amount\", \"congestion_surcharge\",\"airport_fee\"], axis=1, inplace= True)\n",
    "df0.head()"
   ]
  },
  {
   "cell_type": "markdown",
   "id": "a5fc0e09",
   "metadata": {},
   "source": [
    "2- We can classify features as quantative and qualitative features:\n",
    "1. Quantative features:\n",
    " - tpep_pickup_datetime.\n",
    " - tpep_dropoff_datetime.\n",
    " - passenger_count.\n",
    " - trip_distance.\n",
    " - fare amount.\n",
    "2. Qualitative features:\n",
    " - VendorID.\n",
    " - RateCodeID.\n",
    " - store_and_fwd_flag.\n",
    " - PULocationID.\n",
    " - DOLocationID.\n",
    " - payment_type.\n",
    " \n",
    "Firstly, We will convert qualitative columns datatype to categorical data."
   ]
  },
  {
   "cell_type": "code",
   "execution_count": 5,
   "id": "187bf883",
   "metadata": {},
   "outputs": [
    {
     "name": "stdout",
     "output_type": "stream",
     "text": [
      "<class 'pandas.core.frame.DataFrame'>\n",
      "RangeIndex: 998859 entries, 0 to 998858\n",
      "Data columns (total 11 columns):\n",
      " #   Column                 Non-Null Count   Dtype   \n",
      "---  ------                 --------------   -----   \n",
      " 0   VendorID               998859 non-null  category\n",
      " 1   tpep_pickup_datetime   998859 non-null  object  \n",
      " 2   tpep_dropoff_datetime  998859 non-null  object  \n",
      " 3   passenger_count        964497 non-null  float64 \n",
      " 4   trip_distance          998859 non-null  float64 \n",
      " 5   RatecodeID             964497 non-null  category\n",
      " 6   store_and_fwd_flag     964497 non-null  category\n",
      " 7   PULocationID           998859 non-null  category\n",
      " 8   DOLocationID           998859 non-null  category\n",
      " 9   payment_type           998859 non-null  category\n",
      " 10  fare_amount            998859 non-null  float64 \n",
      "dtypes: category(6), float64(3), object(2)\n",
      "memory usage: 45.7+ MB\n"
     ]
    }
   ],
   "source": [
    "df0['VendorID'] = df0['VendorID'].astype('category')\n",
    "df0['RatecodeID'] = df0['RatecodeID'].astype('category')\n",
    "df0['store_and_fwd_flag'] = df0['store_and_fwd_flag'].astype('category')\n",
    "df0['PULocationID'] = df0['PULocationID'].astype('category')\n",
    "df0['DOLocationID'] = df0['DOLocationID'].astype('category')\n",
    "df0['payment_type'] = df0['payment_type'].astype('category')\n",
    "df0.info()"
   ]
  },
  {
   "cell_type": "markdown",
   "id": "6ac66340",
   "metadata": {},
   "source": [
    "Secondly, Convert (tpep_pickup_datetime, tpep_dropoff_datetime) from object to datetime datatype."
   ]
  },
  {
   "cell_type": "code",
   "execution_count": 6,
   "id": "c6416195",
   "metadata": {},
   "outputs": [
    {
     "name": "stdout",
     "output_type": "stream",
     "text": [
      "<class 'pandas.core.frame.DataFrame'>\n",
      "RangeIndex: 998859 entries, 0 to 998858\n",
      "Data columns (total 11 columns):\n",
      " #   Column                 Non-Null Count   Dtype         \n",
      "---  ------                 --------------   -----         \n",
      " 0   VendorID               998859 non-null  category      \n",
      " 1   tpep_pickup_datetime   998859 non-null  datetime64[ns]\n",
      " 2   tpep_dropoff_datetime  998859 non-null  datetime64[ns]\n",
      " 3   passenger_count        964497 non-null  float64       \n",
      " 4   trip_distance          998859 non-null  float64       \n",
      " 5   RatecodeID             964497 non-null  category      \n",
      " 6   store_and_fwd_flag     964497 non-null  category      \n",
      " 7   PULocationID           998859 non-null  category      \n",
      " 8   DOLocationID           998859 non-null  category      \n",
      " 9   payment_type           998859 non-null  category      \n",
      " 10  fare_amount            998859 non-null  float64       \n",
      "dtypes: category(6), datetime64[ns](2), float64(3)\n",
      "memory usage: 45.7 MB\n"
     ]
    }
   ],
   "source": [
    "df0['tpep_pickup_datetime'] = pd.to_datetime(df0['tpep_pickup_datetime'])\n",
    "df0['tpep_dropoff_datetime'] = pd.to_datetime(df0['tpep_dropoff_datetime'])\n",
    "df0.info()"
   ]
  },
  {
   "cell_type": "markdown",
   "id": "f6ba8e62",
   "metadata": {},
   "source": [
    "Discover the distrbution of continues features"
   ]
  },
  {
   "cell_type": "code",
   "execution_count": 7,
   "id": "1f7b4e61",
   "metadata": {},
   "outputs": [
    {
     "data": {
      "text/html": [
       "<div>\n",
       "<style scoped>\n",
       "    .dataframe tbody tr th:only-of-type {\n",
       "        vertical-align: middle;\n",
       "    }\n",
       "\n",
       "    .dataframe tbody tr th {\n",
       "        vertical-align: top;\n",
       "    }\n",
       "\n",
       "    .dataframe thead th {\n",
       "        text-align: right;\n",
       "    }\n",
       "</style>\n",
       "<table border=\"1\" class=\"dataframe\">\n",
       "  <thead>\n",
       "    <tr style=\"text-align: right;\">\n",
       "      <th></th>\n",
       "      <th>passenger_count</th>\n",
       "      <th>trip_distance</th>\n",
       "      <th>fare_amount</th>\n",
       "    </tr>\n",
       "  </thead>\n",
       "  <tbody>\n",
       "    <tr>\n",
       "      <th>count</th>\n",
       "      <td>964497.000000</td>\n",
       "      <td>998859.000000</td>\n",
       "      <td>998859.000000</td>\n",
       "    </tr>\n",
       "    <tr>\n",
       "      <th>mean</th>\n",
       "      <td>1.400979</td>\n",
       "      <td>6.275239</td>\n",
       "      <td>14.794281</td>\n",
       "    </tr>\n",
       "    <tr>\n",
       "      <th>std</th>\n",
       "      <td>0.962464</td>\n",
       "      <td>712.392823</td>\n",
       "      <td>14.244236</td>\n",
       "    </tr>\n",
       "    <tr>\n",
       "      <th>min</th>\n",
       "      <td>0.000000</td>\n",
       "      <td>0.000000</td>\n",
       "      <td>-605.000000</td>\n",
       "    </tr>\n",
       "    <tr>\n",
       "      <th>25%</th>\n",
       "      <td>1.000000</td>\n",
       "      <td>1.100000</td>\n",
       "      <td>7.000000</td>\n",
       "    </tr>\n",
       "    <tr>\n",
       "      <th>50%</th>\n",
       "      <td>1.000000</td>\n",
       "      <td>1.900000</td>\n",
       "      <td>10.500000</td>\n",
       "    </tr>\n",
       "    <tr>\n",
       "      <th>75%</th>\n",
       "      <td>1.000000</td>\n",
       "      <td>3.560000</td>\n",
       "      <td>16.500000</td>\n",
       "    </tr>\n",
       "    <tr>\n",
       "      <th>max</th>\n",
       "      <td>8.000000</td>\n",
       "      <td>330578.660000</td>\n",
       "      <td>950.000000</td>\n",
       "    </tr>\n",
       "  </tbody>\n",
       "</table>\n",
       "</div>"
      ],
      "text/plain": [
       "       passenger_count  trip_distance    fare_amount\n",
       "count    964497.000000  998859.000000  998859.000000\n",
       "mean          1.400979       6.275239      14.794281\n",
       "std           0.962464     712.392823      14.244236\n",
       "min           0.000000       0.000000    -605.000000\n",
       "25%           1.000000       1.100000       7.000000\n",
       "50%           1.000000       1.900000      10.500000\n",
       "75%           1.000000       3.560000      16.500000\n",
       "max           8.000000  330578.660000     950.000000"
      ]
     },
     "execution_count": 7,
     "metadata": {},
     "output_type": "execute_result"
    }
   ],
   "source": [
    "df0.describe()"
   ]
  },
  {
   "cell_type": "markdown",
   "id": "27bb2bed",
   "metadata": {},
   "source": [
    "**Important Notices:**\n",
    "- passenger_count is a discreate value so better to use bar chart to understand it better.\n",
    "- trip_distance and fare_amount have a big difference between their mean and median and it's indicator about outliers, Plus they also have a very big maximum values.\n",
    "- fare_amount has a negative values and that doesn't make sense.\n",
    "\n",
    "\n",
    "We will take care of this outliers and errors later in the cleaning stage."
   ]
  },
  {
   "cell_type": "code",
   "execution_count": 8,
   "id": "5e35f00f",
   "metadata": {},
   "outputs": [
    {
     "data": {
      "text/html": [
       "<div>\n",
       "<style scoped>\n",
       "    .dataframe tbody tr th:only-of-type {\n",
       "        vertical-align: middle;\n",
       "    }\n",
       "\n",
       "    .dataframe tbody tr th {\n",
       "        vertical-align: top;\n",
       "    }\n",
       "\n",
       "    .dataframe thead th {\n",
       "        text-align: right;\n",
       "    }\n",
       "</style>\n",
       "<table border=\"1\" class=\"dataframe\">\n",
       "  <thead>\n",
       "    <tr style=\"text-align: right;\">\n",
       "      <th></th>\n",
       "      <th>passenger_count</th>\n",
       "      <th>count</th>\n",
       "    </tr>\n",
       "  </thead>\n",
       "  <tbody>\n",
       "    <tr>\n",
       "      <th>0</th>\n",
       "      <td>0.0</td>\n",
       "      <td>19183</td>\n",
       "    </tr>\n",
       "    <tr>\n",
       "      <th>1</th>\n",
       "      <td>1.0</td>\n",
       "      <td>711987</td>\n",
       "    </tr>\n",
       "    <tr>\n",
       "      <th>2</th>\n",
       "      <td>2.0</td>\n",
       "      <td>147792</td>\n",
       "    </tr>\n",
       "    <tr>\n",
       "      <th>3</th>\n",
       "      <td>3.0</td>\n",
       "      <td>38880</td>\n",
       "    </tr>\n",
       "    <tr>\n",
       "      <th>4</th>\n",
       "      <td>4.0</td>\n",
       "      <td>17873</td>\n",
       "    </tr>\n",
       "    <tr>\n",
       "      <th>5</th>\n",
       "      <td>5.0</td>\n",
       "      <td>17161</td>\n",
       "    </tr>\n",
       "    <tr>\n",
       "      <th>6</th>\n",
       "      <td>6.0</td>\n",
       "      <td>11618</td>\n",
       "    </tr>\n",
       "    <tr>\n",
       "      <th>7</th>\n",
       "      <td>8.0</td>\n",
       "      <td>3</td>\n",
       "    </tr>\n",
       "  </tbody>\n",
       "</table>\n",
       "</div>"
      ],
      "text/plain": [
       "   passenger_count   count\n",
       "0              0.0   19183\n",
       "1              1.0  711987\n",
       "2              2.0  147792\n",
       "3              3.0   38880\n",
       "4              4.0   17873\n",
       "5              5.0   17161\n",
       "6              6.0   11618\n",
       "7              8.0       3"
      ]
     },
     "execution_count": 8,
     "metadata": {},
     "output_type": "execute_result"
    },
    {
     "data": {
      "image/png": "[encoded data removed]",
      "text/plain": [
       "<Figure size 432x288 with 1 Axes>"
      ]
     },
     "metadata": {
      "needs_background": "light"
     },
     "output_type": "display_data"
    }
   ],
   "source": [
    "# Visualize bar chart for passenger count:\n",
    "passenger_count = df0[['passenger_count', 'VendorID']].groupby('passenger_count').count().reset_index().rename(columns={'VendorID':'count'})\n",
    "plt.bar(x=passenger_count['passenger_count'], height=passenger_count['count'])\n",
    "plt.xlabel('Passenger Count')\n",
    "plt.ylabel('Count')\n",
    "plt.xticks(np.arange(passenger_count['passenger_count'].min(),passenger_count['passenger_count'].max()+1,step=1))\n",
    "passenger_count"
   ]
  },
  {
   "cell_type": "markdown",
   "id": "ae7c9077",
   "metadata": {},
   "source": [
    "**Notices:**\n",
    "- Most taxi trips have one passenger.\n",
    "- There are 19183 trip have zero passengers and that's weird in our case.\n",
    "- There are 3 trips have 8 passengers and after searching for maximum passengers counts I have found that \"The maximum amount of passengers allowed in a yellow taxicab by law is four (4) in a four (4) passenger taxicab or five (5) passengers in a five (5) passenger taxicab, except that an additional passenger must be accepted if such passenger is under the age of seven (7) and is held on the lap of an adult passenger seated\" so it mostly be an outliers."
   ]
  },
  {
   "cell_type": "code",
   "execution_count": 12,
   "id": "af4ed037",
   "metadata": {},
   "outputs": [
    {
     "data": {
      "image/png": "[encoded data removed]",
      "text/plain": [
       "<Figure size 1440x504 with 2 Axes>"
      ]
     },
     "metadata": {
      "needs_background": "light"
     },
     "output_type": "display_data"
    }
   ],
   "source": [
    "df0[['trip_distance','fare_amount']].hist(bins=20, figsize=(20,7))\n",
    "plt.show()"
   ]
  },
  {
   "cell_type": "markdown",
   "id": "451aab0b",
   "metadata": {},
   "source": [
    "The very big outliers prevent histogram from delivering insights about values distrbution."
   ]
  },
  {
   "cell_type": "code",
   "execution_count": 19,
   "id": "65f9b8de",
   "metadata": {},
   "outputs": [
    {
     "name": "stdout",
     "output_type": "stream",
     "text": [
      "inter-quartile range 2.46\n"
     ]
    }
   ],
   "source": [
    "q25, q75 = np.percentile(df0['trip_distance'], 25), np.percentile(df0['trip_distance'], 75)\n",
    "iqr = q75 - q25\n",
    "print(\"inter-quartile range\", iqr)"
   ]
  },
  {
   "cell_type": "code",
   "execution_count": 20,
   "id": "2ab582a5",
   "metadata": {},
   "outputs": [
    {
     "name": "stdout",
     "output_type": "stream",
     "text": [
      "Lower value: -2.59\n",
      "Upper value: 7.25\n"
     ]
    }
   ],
   "source": [
    "# calculate the outlier cutoff\n",
    "cut_off = iqr * 1.5\n",
    "lower, upper = q25 - cut_off, q75 + cut_off\n",
    "print('Lower value:',lower)\n",
    "print('Upper value:', upper)"
   ]
  },
  {
   "cell_type": "markdown",
   "id": "6211cc11",
   "metadata": {},
   "source": [
    "Because the lowe value is negative and the distance can't be negative, So I will set lower value to 0"
   ]
  },
  {
   "cell_type": "code",
   "execution_count": 74,
   "id": "7b95d095",
   "metadata": {},
   "outputs": [
    {
     "data": {
      "image/png": "[encoded data removed]",
      "text/plain": [
       "<Figure size 432x288 with 1 Axes>"
      ]
     },
     "metadata": {
      "needs_background": "light"
     },
     "output_type": "display_data"
    }
   ],
   "source": [
    "lower = 0\n",
    "trip_distance_without_outliers = df0[((df0['trip_distance']>=lower) & (df0['trip_distance']<=upper))]\n",
    "sns.histplot(trip_distance_without_outliers['trip_distance'], bins=40)\n",
    "plt.show()"
   ]
  },
  {
   "cell_type": "code",
   "execution_count": 50,
   "id": "ac5a4e0b",
   "metadata": {},
   "outputs": [
    {
     "name": "stdout",
     "output_type": "stream",
     "text": [
      "inter-quartile range 9.5\n"
     ]
    }
   ],
   "source": [
    "q25, q75 = np.percentile(df0['fare_amount'], 25), np.percentile(df0['fare_amount'], 75)\n",
    "iqr = q75 - q25\n",
    "print(\"inter-quartile range\", iqr)"
   ]
  },
  {
   "cell_type": "code",
   "execution_count": 51,
   "id": "c8b456d3",
   "metadata": {},
   "outputs": [
    {
     "name": "stdout",
     "output_type": "stream",
     "text": [
      "Lower value: -7.25\n",
      "Upper value: 30.75\n"
     ]
    }
   ],
   "source": [
    "# calculate the outlier cutoff\n",
    "cut_off = iqr * 1.5\n",
    "lower, upper = q25 - cut_off, q75 + cut_off\n",
    "print('Lower value:',lower)\n",
    "print('Upper value:', upper)"
   ]
  },
  {
   "cell_type": "code",
   "execution_count": 71,
   "id": "28718d01",
   "metadata": {},
   "outputs": [
    {
     "data": {
      "image/png": "[encoded data removed]",
      "text/plain": [
       "<Figure size 432x288 with 1 Axes>"
      ]
     },
     "metadata": {
      "needs_background": "light"
     },
     "output_type": "display_data"
    }
   ],
   "source": [
    "fare_amount_without_outliers = df0[((df0['fare_amount']>=lower) & (df0['fare_amount']<=upper))]\n",
    "sns.histplot(fare_amount_without_outliers['fare_amount'], bins=60)\n",
    "plt.show()"
   ]
  },
  {
   "cell_type": "markdown",
   "id": "3c0f9b1f",
   "metadata": {},
   "source": [
    "**Important Notices**\n",
    "\n",
    "- These attributes have very different scales. I will deal with this later in feature scaling.\n",
    "- histograms are tail heavy: they extend much farther to the right of the median than to the left. This may make it a bit harder for some Machine Learning algorithms to detect patterns. We will try transforming these attributes later on to have more bell-shaped distributions."
   ]
  },
  {
   "cell_type": "markdown",
   "id": "8ece5870",
   "metadata": {},
   "source": [
    "### 2.c <a id='missing'></a> **Missing Data:**"
   ]
  },
  {
   "cell_type": "code",
   "execution_count": null,
   "id": "0ebc487b",
   "metadata": {},
   "outputs": [],
   "source": [
    "# Number of missing values in each column\n",
    "df0.isna().sum()"
   ]
  },
  {
   "cell_type": "code",
   "execution_count": null,
   "id": "076d26c8",
   "metadata": {},
   "outputs": [],
   "source": [
    "# Number of rows have missing value/s\n",
    "df0.isna().any(axis=1).sum()"
   ]
  },
  {
   "cell_type": "code",
   "execution_count": null,
   "id": "12feae7d",
   "metadata": {},
   "outputs": [],
   "source": [
    "# Percentage of rows have missing value/s\n",
    "print('Percentage of rows with missing value/s:',(df0.isna().any(axis=1).sum()/df0.shape[0])*100,'%')"
   ]
  },
  {
   "cell_type": "markdown",
   "id": "6d08ff00",
   "metadata": {},
   "source": [
    "We have 34362 rows (3.44% of the total rows in Dataset) with missing values in (passenger_count, RatecodeID, store_and_fwd_flag, airport_fee) columns."
   ]
  },
  {
   "cell_type": "code",
   "execution_count": null,
   "id": "8758836f",
   "metadata": {},
   "outputs": [],
   "source": [
    "# Investigating rows with missing values:\n",
    "mask = df0.isna().any(axis=1)\n",
    "df_missing = df0[mask]\n",
    "df_missing.head()"
   ]
  },
  {
   "cell_type": "code",
   "execution_count": null,
   "id": "9da558d9",
   "metadata": {},
   "outputs": [],
   "source": [
    "df_missing.tail()"
   ]
  },
  {
   "cell_type": "code",
   "execution_count": null,
   "id": "f0d82386",
   "metadata": {},
   "outputs": [],
   "source": [
    "plt.figure(figsize=(20,6))\n",
    "df_date_missing = df_missing[['tpep_pickup_datetime','VendorID']]\n",
    "df_date_missing['tpep_pickup_datetime'] = df_date_missing['tpep_pickup_datetime'].dt.date\n",
    "df_date_missing = df_date_missing.groupby('tpep_pickup_datetime').count().reset_index().rename(columns={'VendorID':'trip_count'})\n",
    "df_date_missing['percentage'] = (df_date_missing['trip_count']/df_missing.shape[0])*100\n",
    "df_date_missing['missing'] = True\n",
    "df_date = df0[['tpep_pickup_datetime','VendorID']]\n",
    "df_date['tpep_pickup_datetime'] = df_date['tpep_pickup_datetime'].dt.date\n",
    "df_date = df_date.groupby('tpep_pickup_datetime').count().reset_index().rename(columns={'VendorID':'trip_count'})\n",
    "df_date['percentage'] = (df_date['trip_count']/df0.shape[0])*100\n",
    "df_date['missing'] = False\n",
    "df_date_combine = pd.concat([df_date_missing, df_date]).reset_index()\n",
    "df_date_combine = df_date_combine[df_date_combine['tpep_pickup_datetime']>=datetime.date(2022,1,1)].sort_values(by='tpep_pickup_datetime').reset_index()\n",
    "sns.lineplot(data = df_date_combine, x='tpep_pickup_datetime', y='percentage', hue='missing')"
   ]
  },
  {
   "cell_type": "code",
   "execution_count": null,
   "id": "76f94b75",
   "metadata": {},
   "outputs": [],
   "source": [
    "df_vendor_missing = df_missing[['VendorID','trip_distance']].groupby('VendorID').count().reset_index().rename(columns={'trip_distance':'count'})\n",
    "df_vendor_missing['percentage'] = (df_vendor_missing['count']/df_missing.shape[0])*100\n",
    "df_vendor_missing['missing'] = True\n",
    "df_vendor = df0[['VendorID','trip_distance']].groupby('VendorID').count().reset_index().rename(columns={'trip_distance':'count'})\n",
    "df_vendor['percentage'] = (df_vendor['count']/df0.shape[0])*100\n",
    "df_vendor['missing'] = False\n",
    "df_vendor_combine = pd.concat([df_vendor_missing, df_vendor]).reset_index()\n",
    "sns.barplot(data=df_vendor_combine, x='VendorID', y='percentage', hue='missing')"
   ]
  },
  {
   "cell_type": "code",
   "execution_count": null,
   "id": "6a820e3d",
   "metadata": {},
   "outputs": [],
   "source": [
    "(df_missing['payment_type'].value_counts()/df_missing.shape[0])*100"
   ]
  },
  {
   "cell_type": "code",
   "execution_count": null,
   "id": "9bdd8fef",
   "metadata": {},
   "outputs": [],
   "source": [
    "(df0['payment_type'].value_counts()/df0.shape[0])*100"
   ]
  },
  {
   "cell_type": "code",
   "execution_count": null,
   "id": "f6e54ba2",
   "metadata": {},
   "outputs": [],
   "source": [
    "sns.boxplot(data=[df0['trip_distance'],df_missing['trip_distance']], showfliers=False)"
   ]
  },
  {
   "cell_type": "code",
   "execution_count": null,
   "id": "fd90ecc5",
   "metadata": {},
   "outputs": [],
   "source": [
    "sns.boxplot(data=[df0['fare_amount'],df_missing['fare_amount']], showfliers=False)"
   ]
  },
  {
   "cell_type": "markdown",
   "id": "bdc50962",
   "metadata": {},
   "source": [
    "Because the records have missing values is not a large percentage of our dataset (3.44%), and the records have missing values in 4 columns, So I will drop this records from our dataset."
   ]
  },
  {
   "cell_type": "code",
   "execution_count": null,
   "id": "2cbb0a8d",
   "metadata": {},
   "outputs": [],
   "source": [
    "df = df0.dropna()\n",
    "df.head()"
   ]
  },
  {
   "cell_type": "code",
   "execution_count": null,
   "id": "ed3477bc",
   "metadata": {},
   "outputs": [],
   "source": [
    "# Checking if their any missing values yet.\n",
    "df.info()"
   ]
  },
  {
   "cell_type": "markdown",
   "id": "50b841dd",
   "metadata": {},
   "source": [
    "Now our dataset hasn't any missing values."
   ]
  },
  {
   "cell_type": "markdown",
   "id": "ee4c1c50",
   "metadata": {},
   "source": [
    "### 2.d <a id='outliers'></a> **Outliers:**"
   ]
  },
  {
   "cell_type": "code",
   "execution_count": null,
   "id": "4f4b5397",
   "metadata": {},
   "outputs": [],
   "source": []
  }
 ],
 "metadata": {
  "kernelspec": {
   "display_name": "Python 3 (ipykernel)",
   "language": "python",
   "name": "python3"
  },
  "language_info": {
   "codemirror_mode": {
    "name": "ipython",
    "version": 3
   },
   "file_extension": ".py",
   "mimetype": "text/x-python",
   "name": "python",
   "nbconvert_exporter": "python",
   "pygments_lexer": "ipython3",
   "version": "3.9.12"
  }
 },
 "nbformat": 4,
 "nbformat_minor": 5
}
