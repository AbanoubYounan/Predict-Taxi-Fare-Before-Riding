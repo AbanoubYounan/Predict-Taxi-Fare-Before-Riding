{
 "cells": [
  {
   "cell_type": "markdown",
   "id": "5e165f7f",
   "metadata": {},
   "source": [
    "# **EXECUTIVE SUMMARY**    \n",
    "The objective of this project is to build a machine learning model that will predict taxicab trip fare before riding based on 2022 NYC Yellow Cab trip record data (https://data.cityofnewyork.us/Transportation/2022-Yellow-Taxi-Trip-Data/qp3b-zxtp).\n",
    "To that end, I will demonstrate the phases of the data science pipeline:\n",
    "1. **[Random Sampling](#sampl)** Make a Random Sample from the large original CSV file with (39.7 Milions rows & Size More than 3.5 GB) to make the analysis and modeling process more efficient: \n",
    "2. **[Preprocessing](#prep)**: Clean and transform the data into a usable format for analysis.\n",
    "3. **[Exploratory Analysis](#eda)**: Perform exploratory analysis to identify the best features to be used for modeling.  And Test the Models Assumptions to choose suitable model for the data\n",
    "4. **[Algorithm Development](#ml)**: Train, test, and refine various models to predict the target variable.  Given that our dependent variable `trip_duration` is a continuous outcome,  the regression algorithms to be protoyped are as follows:\n",
    " - [Multivarite Linear Regression](#linear)  \n",
    "\n",
    "\n",
    "5. **[Model Deployment](#deployment)**: Apply the best performing model to the test set for contest submission.\n",
    "\n",
    "\n",
    "# **ABOUT THE DATA**  \n",
    "The  dataset is based on the 2022 NYC Yellow Cab trip record data. Its variables are as follows:\n",
    "\n",
    "| **Variable Name** | **Description** | **Type**|          \n",
    "| :------------------ |:-------------|:-------------|   \n",
    "|vendor_id    | A code indicating the TPEP provider that provided the record.     | Number|\n",
    "|pickup_datetime |  date and time when the meter was engaged|  Data & Time|\n",
    "|dropoff_datetime|  date and time when the meter was disengaged|  Data & Time|\n",
    "|passenger_count|  the number of passengers in the vehicle (driver entered value)|  Number|\n",
    "|trip_distance |  The elapsed trip distance in miles reported by the taximeter.| Number|\n",
    "|RatecodeID | The final rate code in effect at the end of the trip. | Number |\n",
    "|PULocationID | TLC Taxi Zone in which the taximeter was engaged|  Number |\n",
    "|DOLocationID  |   TLC Taxi Zone in which the taximeter was disengaged|  Number |\n",
    "|store_and_fwd_flag | This flag indicates whether the trip record was held in vehicle memory before sending to the vendor because the vehicle did not have a connection to the server - Y=store and forward; N=not a store and forward trip   | Plain-text|\n",
    "|payment_type | A numeric code signifying how the passenger paid for the trip. | Number |\n",
    "|fare_amount | \tThe time-and-distance fare calculated by the meter. | Number |\n",
    "|extra | Miscellaneous extras and surcharges. | Number |\n",
    "|mta_tax | \tTax that is automatically triggered based on the metered rate in use.| Number |\n",
    "|tip_amount | This field is automatically populated for credit card tips. Cash tips are not included. | Number|\n",
    "|tolls_amount | Total amount of all tolls paid in trip. | Number |\n",
    "|improvement_surcharge | Improvement surcharge assessed trips at the flag drop. The improvement surcharge began being levied in 2015. | Number |\n",
    "|total_amount | The total amount charged to passengers. Does not include cash tips. | Number|\n",
    "|congestion_surcharge | Total amount collected in trip for NYS congestion surcharge. | Number |\n",
    "|airport_fee | For pick up only at LaGuardia and John F. Kennedy Airports. | Number |\n"
   ]
  },
  {
   "cell_type": "markdown",
   "id": "73c02faf",
   "metadata": {},
   "source": [
    "## <a id=\"sampl\"></a> **1.Random Sampling:**\n",
    "- The original CSV file contain 3.97 milions record (more than 3.5 GB), So to make the Analysis and Modeling process more efficient we will get a random sample with (1 milion rocord) to work in it.\n",
    "\n",
    "**I completed this step in (Random Sampling from Large CSV file.ipynb) notebook.**"
   ]
  },
  {
   "cell_type": "markdown",
   "id": "4b79d885",
   "metadata": {},
   "source": [
    "## <a id=\"prep\"></a>**2. DATA PRE-PROCESSING**\n",
    " First, the data will be loaded and cleaned into a usuable format for analysis. Specifically, I'll need to address:  \n",
    " - [Delete irrelevent coloumns](#delcol)\n",
    " - [data types](#types)\n",
    " - [missing data](#missing)\n",
    " - [outliers](#outliers)  \n",
    " - [feature engineering](#engineering)"
   ]
  },
  {
   "cell_type": "code",
   "execution_count": 87,
   "id": "c816e5da",
   "metadata": {},
   "outputs": [],
   "source": [
    "import warnings\n",
    "import datetime\n",
    "warnings.filterwarnings(\"ignore\")\n",
    "\n",
    "# Import useful liberires \n",
    "import pandas as pd\n",
    "import numpy as np\n",
    "\n",
    "# Visualision Libraries\n",
    "import matplotlib.pyplot as plt\n",
    "import seaborn as sns"
   ]
  },
  {
   "cell_type": "code",
   "execution_count": 2,
   "id": "258e4f98",
   "metadata": {},
   "outputs": [
    {
     "data": {
      "text/plain": [
       "(998859, 20)"
      ]
     },
     "execution_count": 2,
     "metadata": {},
     "output_type": "execute_result"
    }
   ],
   "source": [
    "# Load our DataFrame from The Sample Data\n",
    "\n",
    "df0 = pd.read_csv('Random_Sample_2022_Yellow_Taxi_Trip_Data.csv')\n",
    "df0.shape"
   ]
  },
  {
   "cell_type": "markdown",
   "id": "23f77b42",
   "metadata": {},
   "source": [
    "Our Data has (~= 1 milion record) and 20 columns "
   ]
  },
  {
   "cell_type": "code",
   "execution_count": 3,
   "id": "9dba07cd",
   "metadata": {},
   "outputs": [
    {
     "data": {
      "text/html": [
       "<div>\n",
       "<style scoped>\n",
       "    .dataframe tbody tr th:only-of-type {\n",
       "        vertical-align: middle;\n",
       "    }\n",
       "\n",
       "    .dataframe tbody tr th {\n",
       "        vertical-align: top;\n",
       "    }\n",
       "\n",
       "    .dataframe thead th {\n",
       "        text-align: right;\n",
       "    }\n",
       "</style>\n",
       "<table border=\"1\" class=\"dataframe\">\n",
       "  <thead>\n",
       "    <tr style=\"text-align: right;\">\n",
       "      <th></th>\n",
       "      <th>Unnamed: 0</th>\n",
       "      <th>VendorID</th>\n",
       "      <th>tpep_pickup_datetime</th>\n",
       "      <th>tpep_dropoff_datetime</th>\n",
       "      <th>passenger_count</th>\n",
       "      <th>trip_distance</th>\n",
       "      <th>RatecodeID</th>\n",
       "      <th>store_and_fwd_flag</th>\n",
       "      <th>PULocationID</th>\n",
       "      <th>DOLocationID</th>\n",
       "      <th>payment_type</th>\n",
       "      <th>fare_amount</th>\n",
       "      <th>extra</th>\n",
       "      <th>mta_tax</th>\n",
       "      <th>tip_amount</th>\n",
       "      <th>tolls_amount</th>\n",
       "      <th>improvement_surcharge</th>\n",
       "      <th>total_amount</th>\n",
       "      <th>congestion_surcharge</th>\n",
       "      <th>airport_fee</th>\n",
       "    </tr>\n",
       "  </thead>\n",
       "  <tbody>\n",
       "    <tr>\n",
       "      <th>0</th>\n",
       "      <td>0</td>\n",
       "      <td>2</td>\n",
       "      <td>01/01/2022 12:40:12 AM</td>\n",
       "      <td>01/01/2022 01:07:08 AM</td>\n",
       "      <td>1.0</td>\n",
       "      <td>5.43</td>\n",
       "      <td>1.0</td>\n",
       "      <td>N</td>\n",
       "      <td>68</td>\n",
       "      <td>263</td>\n",
       "      <td>1</td>\n",
       "      <td>21.0</td>\n",
       "      <td>0.5</td>\n",
       "      <td>0.5</td>\n",
       "      <td>4.00</td>\n",
       "      <td>0.0</td>\n",
       "      <td>0.3</td>\n",
       "      <td>28.80</td>\n",
       "      <td>2.5</td>\n",
       "      <td>0.0</td>\n",
       "    </tr>\n",
       "    <tr>\n",
       "      <th>1</th>\n",
       "      <td>1</td>\n",
       "      <td>1</td>\n",
       "      <td>01/01/2022 12:31:53 AM</td>\n",
       "      <td>01/01/2022 12:36:31 AM</td>\n",
       "      <td>0.0</td>\n",
       "      <td>1.30</td>\n",
       "      <td>1.0</td>\n",
       "      <td>N</td>\n",
       "      <td>140</td>\n",
       "      <td>229</td>\n",
       "      <td>1</td>\n",
       "      <td>6.0</td>\n",
       "      <td>3.0</td>\n",
       "      <td>0.5</td>\n",
       "      <td>2.90</td>\n",
       "      <td>0.0</td>\n",
       "      <td>0.3</td>\n",
       "      <td>12.70</td>\n",
       "      <td>2.5</td>\n",
       "      <td>0.0</td>\n",
       "    </tr>\n",
       "    <tr>\n",
       "      <th>2</th>\n",
       "      <td>2</td>\n",
       "      <td>2</td>\n",
       "      <td>01/01/2022 12:43:07 AM</td>\n",
       "      <td>01/01/2022 12:51:17 AM</td>\n",
       "      <td>1.0</td>\n",
       "      <td>1.86</td>\n",
       "      <td>1.0</td>\n",
       "      <td>N</td>\n",
       "      <td>239</td>\n",
       "      <td>237</td>\n",
       "      <td>1</td>\n",
       "      <td>8.5</td>\n",
       "      <td>0.5</td>\n",
       "      <td>0.5</td>\n",
       "      <td>2.46</td>\n",
       "      <td>0.0</td>\n",
       "      <td>0.3</td>\n",
       "      <td>14.76</td>\n",
       "      <td>2.5</td>\n",
       "      <td>0.0</td>\n",
       "    </tr>\n",
       "    <tr>\n",
       "      <th>3</th>\n",
       "      <td>3</td>\n",
       "      <td>2</td>\n",
       "      <td>01/01/2022 12:36:17 AM</td>\n",
       "      <td>01/01/2022 12:41:48 AM</td>\n",
       "      <td>2.0</td>\n",
       "      <td>1.30</td>\n",
       "      <td>1.0</td>\n",
       "      <td>N</td>\n",
       "      <td>249</td>\n",
       "      <td>90</td>\n",
       "      <td>1</td>\n",
       "      <td>6.0</td>\n",
       "      <td>0.5</td>\n",
       "      <td>0.5</td>\n",
       "      <td>0.00</td>\n",
       "      <td>0.0</td>\n",
       "      <td>0.3</td>\n",
       "      <td>9.80</td>\n",
       "      <td>2.5</td>\n",
       "      <td>0.0</td>\n",
       "    </tr>\n",
       "    <tr>\n",
       "      <th>4</th>\n",
       "      <td>4</td>\n",
       "      <td>2</td>\n",
       "      <td>01/01/2022 12:55:14 AM</td>\n",
       "      <td>01/01/2022 01:11:18 AM</td>\n",
       "      <td>1.0</td>\n",
       "      <td>4.58</td>\n",
       "      <td>1.0</td>\n",
       "      <td>N</td>\n",
       "      <td>161</td>\n",
       "      <td>24</td>\n",
       "      <td>1</td>\n",
       "      <td>16.0</td>\n",
       "      <td>0.5</td>\n",
       "      <td>0.5</td>\n",
       "      <td>3.96</td>\n",
       "      <td>0.0</td>\n",
       "      <td>0.3</td>\n",
       "      <td>23.76</td>\n",
       "      <td>2.5</td>\n",
       "      <td>0.0</td>\n",
       "    </tr>\n",
       "    <tr>\n",
       "      <th>5</th>\n",
       "      <td>5</td>\n",
       "      <td>2</td>\n",
       "      <td>01/01/2022 01:01:24 AM</td>\n",
       "      <td>01/01/2022 01:08:03 AM</td>\n",
       "      <td>6.0</td>\n",
       "      <td>1.30</td>\n",
       "      <td>1.0</td>\n",
       "      <td>N</td>\n",
       "      <td>74</td>\n",
       "      <td>262</td>\n",
       "      <td>2</td>\n",
       "      <td>7.0</td>\n",
       "      <td>0.5</td>\n",
       "      <td>0.5</td>\n",
       "      <td>0.00</td>\n",
       "      <td>0.0</td>\n",
       "      <td>0.3</td>\n",
       "      <td>10.80</td>\n",
       "      <td>2.5</td>\n",
       "      <td>0.0</td>\n",
       "    </tr>\n",
       "    <tr>\n",
       "      <th>6</th>\n",
       "      <td>6</td>\n",
       "      <td>2</td>\n",
       "      <td>01/01/2022 01:01:52 AM</td>\n",
       "      <td>01/01/2022 01:11:02 AM</td>\n",
       "      <td>2.0</td>\n",
       "      <td>2.36</td>\n",
       "      <td>1.0</td>\n",
       "      <td>N</td>\n",
       "      <td>237</td>\n",
       "      <td>107</td>\n",
       "      <td>1</td>\n",
       "      <td>9.0</td>\n",
       "      <td>0.5</td>\n",
       "      <td>0.5</td>\n",
       "      <td>3.84</td>\n",
       "      <td>0.0</td>\n",
       "      <td>0.3</td>\n",
       "      <td>16.64</td>\n",
       "      <td>2.5</td>\n",
       "      <td>0.0</td>\n",
       "    </tr>\n",
       "    <tr>\n",
       "      <th>7</th>\n",
       "      <td>7</td>\n",
       "      <td>2</td>\n",
       "      <td>01/01/2022 12:51:14 AM</td>\n",
       "      <td>01/01/2022 01:02:45 AM</td>\n",
       "      <td>1.0</td>\n",
       "      <td>2.22</td>\n",
       "      <td>1.0</td>\n",
       "      <td>N</td>\n",
       "      <td>236</td>\n",
       "      <td>141</td>\n",
       "      <td>1</td>\n",
       "      <td>10.5</td>\n",
       "      <td>0.5</td>\n",
       "      <td>0.5</td>\n",
       "      <td>3.58</td>\n",
       "      <td>0.0</td>\n",
       "      <td>0.3</td>\n",
       "      <td>17.88</td>\n",
       "      <td>2.5</td>\n",
       "      <td>0.0</td>\n",
       "    </tr>\n",
       "    <tr>\n",
       "      <th>8</th>\n",
       "      <td>8</td>\n",
       "      <td>2</td>\n",
       "      <td>01/01/2022 12:55:56 AM</td>\n",
       "      <td>01/01/2022 01:17:11 AM</td>\n",
       "      <td>1.0</td>\n",
       "      <td>9.03</td>\n",
       "      <td>1.0</td>\n",
       "      <td>N</td>\n",
       "      <td>170</td>\n",
       "      <td>243</td>\n",
       "      <td>2</td>\n",
       "      <td>28.0</td>\n",
       "      <td>0.5</td>\n",
       "      <td>0.5</td>\n",
       "      <td>0.00</td>\n",
       "      <td>0.0</td>\n",
       "      <td>0.3</td>\n",
       "      <td>31.80</td>\n",
       "      <td>2.5</td>\n",
       "      <td>0.0</td>\n",
       "    </tr>\n",
       "    <tr>\n",
       "      <th>9</th>\n",
       "      <td>9</td>\n",
       "      <td>2</td>\n",
       "      <td>01/01/2022 12:53:34 AM</td>\n",
       "      <td>01/01/2022 12:55:13 AM</td>\n",
       "      <td>1.0</td>\n",
       "      <td>0.64</td>\n",
       "      <td>1.0</td>\n",
       "      <td>N</td>\n",
       "      <td>263</td>\n",
       "      <td>263</td>\n",
       "      <td>1</td>\n",
       "      <td>4.0</td>\n",
       "      <td>0.5</td>\n",
       "      <td>0.5</td>\n",
       "      <td>1.56</td>\n",
       "      <td>0.0</td>\n",
       "      <td>0.3</td>\n",
       "      <td>9.36</td>\n",
       "      <td>2.5</td>\n",
       "      <td>0.0</td>\n",
       "    </tr>\n",
       "  </tbody>\n",
       "</table>\n",
       "</div>"
      ],
      "text/plain": [
       "   Unnamed: 0  VendorID    tpep_pickup_datetime   tpep_dropoff_datetime  \\\n",
       "0           0         2  01/01/2022 12:40:12 AM  01/01/2022 01:07:08 AM   \n",
       "1           1         1  01/01/2022 12:31:53 AM  01/01/2022 12:36:31 AM   \n",
       "2           2         2  01/01/2022 12:43:07 AM  01/01/2022 12:51:17 AM   \n",
       "3           3         2  01/01/2022 12:36:17 AM  01/01/2022 12:41:48 AM   \n",
       "4           4         2  01/01/2022 12:55:14 AM  01/01/2022 01:11:18 AM   \n",
       "5           5         2  01/01/2022 01:01:24 AM  01/01/2022 01:08:03 AM   \n",
       "6           6         2  01/01/2022 01:01:52 AM  01/01/2022 01:11:02 AM   \n",
       "7           7         2  01/01/2022 12:51:14 AM  01/01/2022 01:02:45 AM   \n",
       "8           8         2  01/01/2022 12:55:56 AM  01/01/2022 01:17:11 AM   \n",
       "9           9         2  01/01/2022 12:53:34 AM  01/01/2022 12:55:13 AM   \n",
       "\n",
       "   passenger_count  trip_distance  RatecodeID store_and_fwd_flag  \\\n",
       "0              1.0           5.43         1.0                  N   \n",
       "1              0.0           1.30         1.0                  N   \n",
       "2              1.0           1.86         1.0                  N   \n",
       "3              2.0           1.30         1.0                  N   \n",
       "4              1.0           4.58         1.0                  N   \n",
       "5              6.0           1.30         1.0                  N   \n",
       "6              2.0           2.36         1.0                  N   \n",
       "7              1.0           2.22         1.0                  N   \n",
       "8              1.0           9.03         1.0                  N   \n",
       "9              1.0           0.64         1.0                  N   \n",
       "\n",
       "   PULocationID  DOLocationID  payment_type  fare_amount  extra  mta_tax  \\\n",
       "0            68           263             1         21.0    0.5      0.5   \n",
       "1           140           229             1          6.0    3.0      0.5   \n",
       "2           239           237             1          8.5    0.5      0.5   \n",
       "3           249            90             1          6.0    0.5      0.5   \n",
       "4           161            24             1         16.0    0.5      0.5   \n",
       "5            74           262             2          7.0    0.5      0.5   \n",
       "6           237           107             1          9.0    0.5      0.5   \n",
       "7           236           141             1         10.5    0.5      0.5   \n",
       "8           170           243             2         28.0    0.5      0.5   \n",
       "9           263           263             1          4.0    0.5      0.5   \n",
       "\n",
       "   tip_amount  tolls_amount  improvement_surcharge  total_amount  \\\n",
       "0        4.00           0.0                    0.3         28.80   \n",
       "1        2.90           0.0                    0.3         12.70   \n",
       "2        2.46           0.0                    0.3         14.76   \n",
       "3        0.00           0.0                    0.3          9.80   \n",
       "4        3.96           0.0                    0.3         23.76   \n",
       "5        0.00           0.0                    0.3         10.80   \n",
       "6        3.84           0.0                    0.3         16.64   \n",
       "7        3.58           0.0                    0.3         17.88   \n",
       "8        0.00           0.0                    0.3         31.80   \n",
       "9        1.56           0.0                    0.3          9.36   \n",
       "\n",
       "   congestion_surcharge  airport_fee  \n",
       "0                   2.5          0.0  \n",
       "1                   2.5          0.0  \n",
       "2                   2.5          0.0  \n",
       "3                   2.5          0.0  \n",
       "4                   2.5          0.0  \n",
       "5                   2.5          0.0  \n",
       "6                   2.5          0.0  \n",
       "7                   2.5          0.0  \n",
       "8                   2.5          0.0  \n",
       "9                   2.5          0.0  "
      ]
     },
     "execution_count": 3,
     "metadata": {},
     "output_type": "execute_result"
    }
   ],
   "source": [
    "# Display the first 10 rows\n",
    "df0.head(10)"
   ]
  },
  {
   "cell_type": "markdown",
   "id": "7339fb43",
   "metadata": {},
   "source": [
    "Every Row repressents a single trip."
   ]
  },
  {
   "cell_type": "markdown",
   "id": "62c1a1ff",
   "metadata": {},
   "source": [
    "### 2.a <a id='delcol'></a> **Delete Irrelevent columns:**\n",
    "Our objective is to predict fare amount of trip before riding, So maybe there are some columns irrelevent to our objective, so we will drop it to simplify and increase efficency of our analysis and modeling.\n",
    "\n",
    "- First we will drop \"Unnamed:0\" because it's like the index of records.\n",
    "- Secondaly we will drop (\"extra\", \"mta_tax\", \"tip_amount\", \"tolls_amount\", \"improvement_surcharge\", \"total_amount\", \"congestion_surcharge\"), Because they are addational amount based in some laws, and doesn't affect the fare amount, but they are added to it, to form the total amount."
   ]
  },
  {
   "cell_type": "code",
   "execution_count": 4,
   "id": "44e26733",
   "metadata": {},
   "outputs": [
    {
     "data": {
      "text/html": [
       "<div>\n",
       "<style scoped>\n",
       "    .dataframe tbody tr th:only-of-type {\n",
       "        vertical-align: middle;\n",
       "    }\n",
       "\n",
       "    .dataframe tbody tr th {\n",
       "        vertical-align: top;\n",
       "    }\n",
       "\n",
       "    .dataframe thead th {\n",
       "        text-align: right;\n",
       "    }\n",
       "</style>\n",
       "<table border=\"1\" class=\"dataframe\">\n",
       "  <thead>\n",
       "    <tr style=\"text-align: right;\">\n",
       "      <th></th>\n",
       "      <th>VendorID</th>\n",
       "      <th>tpep_pickup_datetime</th>\n",
       "      <th>tpep_dropoff_datetime</th>\n",
       "      <th>passenger_count</th>\n",
       "      <th>trip_distance</th>\n",
       "      <th>RatecodeID</th>\n",
       "      <th>store_and_fwd_flag</th>\n",
       "      <th>PULocationID</th>\n",
       "      <th>DOLocationID</th>\n",
       "      <th>payment_type</th>\n",
       "      <th>fare_amount</th>\n",
       "      <th>airport_fee</th>\n",
       "    </tr>\n",
       "  </thead>\n",
       "  <tbody>\n",
       "    <tr>\n",
       "      <th>0</th>\n",
       "      <td>2</td>\n",
       "      <td>01/01/2022 12:40:12 AM</td>\n",
       "      <td>01/01/2022 01:07:08 AM</td>\n",
       "      <td>1.0</td>\n",
       "      <td>5.43</td>\n",
       "      <td>1.0</td>\n",
       "      <td>N</td>\n",
       "      <td>68</td>\n",
       "      <td>263</td>\n",
       "      <td>1</td>\n",
       "      <td>21.0</td>\n",
       "      <td>0.0</td>\n",
       "    </tr>\n",
       "    <tr>\n",
       "      <th>1</th>\n",
       "      <td>1</td>\n",
       "      <td>01/01/2022 12:31:53 AM</td>\n",
       "      <td>01/01/2022 12:36:31 AM</td>\n",
       "      <td>0.0</td>\n",
       "      <td>1.30</td>\n",
       "      <td>1.0</td>\n",
       "      <td>N</td>\n",
       "      <td>140</td>\n",
       "      <td>229</td>\n",
       "      <td>1</td>\n",
       "      <td>6.0</td>\n",
       "      <td>0.0</td>\n",
       "    </tr>\n",
       "    <tr>\n",
       "      <th>2</th>\n",
       "      <td>2</td>\n",
       "      <td>01/01/2022 12:43:07 AM</td>\n",
       "      <td>01/01/2022 12:51:17 AM</td>\n",
       "      <td>1.0</td>\n",
       "      <td>1.86</td>\n",
       "      <td>1.0</td>\n",
       "      <td>N</td>\n",
       "      <td>239</td>\n",
       "      <td>237</td>\n",
       "      <td>1</td>\n",
       "      <td>8.5</td>\n",
       "      <td>0.0</td>\n",
       "    </tr>\n",
       "    <tr>\n",
       "      <th>3</th>\n",
       "      <td>2</td>\n",
       "      <td>01/01/2022 12:36:17 AM</td>\n",
       "      <td>01/01/2022 12:41:48 AM</td>\n",
       "      <td>2.0</td>\n",
       "      <td>1.30</td>\n",
       "      <td>1.0</td>\n",
       "      <td>N</td>\n",
       "      <td>249</td>\n",
       "      <td>90</td>\n",
       "      <td>1</td>\n",
       "      <td>6.0</td>\n",
       "      <td>0.0</td>\n",
       "    </tr>\n",
       "    <tr>\n",
       "      <th>4</th>\n",
       "      <td>2</td>\n",
       "      <td>01/01/2022 12:55:14 AM</td>\n",
       "      <td>01/01/2022 01:11:18 AM</td>\n",
       "      <td>1.0</td>\n",
       "      <td>4.58</td>\n",
       "      <td>1.0</td>\n",
       "      <td>N</td>\n",
       "      <td>161</td>\n",
       "      <td>24</td>\n",
       "      <td>1</td>\n",
       "      <td>16.0</td>\n",
       "      <td>0.0</td>\n",
       "    </tr>\n",
       "  </tbody>\n",
       "</table>\n",
       "</div>"
      ],
      "text/plain": [
       "   VendorID    tpep_pickup_datetime   tpep_dropoff_datetime  passenger_count  \\\n",
       "0         2  01/01/2022 12:40:12 AM  01/01/2022 01:07:08 AM              1.0   \n",
       "1         1  01/01/2022 12:31:53 AM  01/01/2022 12:36:31 AM              0.0   \n",
       "2         2  01/01/2022 12:43:07 AM  01/01/2022 12:51:17 AM              1.0   \n",
       "3         2  01/01/2022 12:36:17 AM  01/01/2022 12:41:48 AM              2.0   \n",
       "4         2  01/01/2022 12:55:14 AM  01/01/2022 01:11:18 AM              1.0   \n",
       "\n",
       "   trip_distance  RatecodeID store_and_fwd_flag  PULocationID  DOLocationID  \\\n",
       "0           5.43         1.0                  N            68           263   \n",
       "1           1.30         1.0                  N           140           229   \n",
       "2           1.86         1.0                  N           239           237   \n",
       "3           1.30         1.0                  N           249            90   \n",
       "4           4.58         1.0                  N           161            24   \n",
       "\n",
       "   payment_type  fare_amount  airport_fee  \n",
       "0             1         21.0          0.0  \n",
       "1             1          6.0          0.0  \n",
       "2             1          8.5          0.0  \n",
       "3             1          6.0          0.0  \n",
       "4             1         16.0          0.0  "
      ]
     },
     "execution_count": 4,
     "metadata": {},
     "output_type": "execute_result"
    }
   ],
   "source": [
    "df0.drop(columns=[\"Unnamed: 0\",\"extra\", \"mta_tax\", \"tip_amount\", \"tolls_amount\", \"improvement_surcharge\", \"total_amount\", \"congestion_surcharge\"], axis=1, inplace= True)\n",
    "df0.head()"
   ]
  },
  {
   "cell_type": "markdown",
   "id": "62a16403",
   "metadata": {},
   "source": [
    "### 2.b <a id='types'></a> **Data Types:**\n",
    "Here we will check the data types of features values, and transform to another data types for another data type if needed."
   ]
  },
  {
   "cell_type": "code",
   "execution_count": 5,
   "id": "ca063315",
   "metadata": {},
   "outputs": [
    {
     "name": "stdout",
     "output_type": "stream",
     "text": [
      "<class 'pandas.core.frame.DataFrame'>\n",
      "RangeIndex: 998859 entries, 0 to 998858\n",
      "Data columns (total 12 columns):\n",
      " #   Column                 Non-Null Count   Dtype  \n",
      "---  ------                 --------------   -----  \n",
      " 0   VendorID               998859 non-null  int64  \n",
      " 1   tpep_pickup_datetime   998859 non-null  object \n",
      " 2   tpep_dropoff_datetime  998859 non-null  object \n",
      " 3   passenger_count        964497 non-null  float64\n",
      " 4   trip_distance          998859 non-null  float64\n",
      " 5   RatecodeID             964497 non-null  float64\n",
      " 6   store_and_fwd_flag     964497 non-null  object \n",
      " 7   PULocationID           998859 non-null  int64  \n",
      " 8   DOLocationID           998859 non-null  int64  \n",
      " 9   payment_type           998859 non-null  int64  \n",
      " 10  fare_amount            998859 non-null  float64\n",
      " 11  airport_fee            964497 non-null  float64\n",
      "dtypes: float64(5), int64(4), object(3)\n",
      "memory usage: 91.4+ MB\n"
     ]
    }
   ],
   "source": [
    "# check columns data types:\n",
    "df0.info()"
   ]
  },
  {
   "cell_type": "markdown",
   "id": "1aee2fb7",
   "metadata": {},
   "source": [
    "After reading data documentation, We can classify features as quantative and qualitative features:\n",
    "1. Quantative features:\n",
    " - tpep_pickup_datetime.\n",
    " - tpep_dropoff_datetime.\n",
    " - passenger_count.\n",
    " - trip_distance.\n",
    " - fare amount.\n",
    "2. Qualitative features:\n",
    " - VendorID.\n",
    " - RateCodeID.\n",
    " - store_and_fwd_flag.\n",
    " - PULocationID.\n",
    " - DOLocationID.\n",
    " - payment_type."
   ]
  },
  {
   "cell_type": "markdown",
   "id": "deeb4c4d",
   "metadata": {},
   "source": [
    "Firstly, We will convert qualitative columns datatype to categorical data."
   ]
  },
  {
   "cell_type": "code",
   "execution_count": 6,
   "id": "187bf883",
   "metadata": {},
   "outputs": [
    {
     "name": "stdout",
     "output_type": "stream",
     "text": [
      "<class 'pandas.core.frame.DataFrame'>\n",
      "RangeIndex: 998859 entries, 0 to 998858\n",
      "Data columns (total 12 columns):\n",
      " #   Column                 Non-Null Count   Dtype   \n",
      "---  ------                 --------------   -----   \n",
      " 0   VendorID               998859 non-null  category\n",
      " 1   tpep_pickup_datetime   998859 non-null  object  \n",
      " 2   tpep_dropoff_datetime  998859 non-null  object  \n",
      " 3   passenger_count        964497 non-null  float64 \n",
      " 4   trip_distance          998859 non-null  float64 \n",
      " 5   RatecodeID             964497 non-null  category\n",
      " 6   store_and_fwd_flag     964497 non-null  category\n",
      " 7   PULocationID           998859 non-null  category\n",
      " 8   DOLocationID           998859 non-null  category\n",
      " 9   payment_type           998859 non-null  category\n",
      " 10  fare_amount            998859 non-null  float64 \n",
      " 11  airport_fee            964497 non-null  float64 \n",
      "dtypes: category(6), float64(4), object(2)\n",
      "memory usage: 53.4+ MB\n"
     ]
    }
   ],
   "source": [
    "df0['VendorID'] = df0['VendorID'].astype('category')\n",
    "df0['RatecodeID'] = df0['RatecodeID'].astype('category')\n",
    "df0['store_and_fwd_flag'] = df0['store_and_fwd_flag'].astype('category')\n",
    "df0['PULocationID'] = df0['PULocationID'].astype('category')\n",
    "df0['DOLocationID'] = df0['DOLocationID'].astype('category')\n",
    "df0['payment_type'] = df0['payment_type'].astype('category')\n",
    "df0.info()"
   ]
  },
  {
   "cell_type": "markdown",
   "id": "6ac66340",
   "metadata": {},
   "source": [
    "Secondly, Convert (tpep_pickup_datetime, tpep_dropoff_datetime) from object to datetime datatype."
   ]
  },
  {
   "cell_type": "code",
   "execution_count": 12,
   "id": "c6416195",
   "metadata": {},
   "outputs": [
    {
     "name": "stdout",
     "output_type": "stream",
     "text": [
      "<class 'pandas.core.frame.DataFrame'>\n",
      "RangeIndex: 998859 entries, 0 to 998858\n",
      "Data columns (total 12 columns):\n",
      " #   Column                 Non-Null Count   Dtype         \n",
      "---  ------                 --------------   -----         \n",
      " 0   VendorID               998859 non-null  category      \n",
      " 1   tpep_pickup_datetime   998859 non-null  datetime64[ns]\n",
      " 2   tpep_dropoff_datetime  998859 non-null  datetime64[ns]\n",
      " 3   passenger_count        964497 non-null  float64       \n",
      " 4   trip_distance          998859 non-null  float64       \n",
      " 5   RatecodeID             964497 non-null  category      \n",
      " 6   store_and_fwd_flag     964497 non-null  category      \n",
      " 7   PULocationID           998859 non-null  category      \n",
      " 8   DOLocationID           998859 non-null  category      \n",
      " 9   payment_type           998859 non-null  category      \n",
      " 10  fare_amount            998859 non-null  float64       \n",
      " 11  airport_fee            964497 non-null  float64       \n",
      "dtypes: category(6), datetime64[ns](2), float64(4)\n",
      "memory usage: 53.4 MB\n"
     ]
    }
   ],
   "source": [
    "df0['tpep_pickup_datetime'] = pd.to_datetime(df0['tpep_pickup_datetime'])\n",
    "df0['tpep_dropoff_datetime'] = pd.to_datetime(df0['tpep_dropoff_datetime'])\n",
    "df0.info()"
   ]
  },
  {
   "cell_type": "markdown",
   "id": "8ece5870",
   "metadata": {},
   "source": [
    "### 2.c <a id='missing'></a> **Missing Data:**"
   ]
  },
  {
   "cell_type": "code",
   "execution_count": 8,
   "id": "0ebc487b",
   "metadata": {},
   "outputs": [
    {
     "data": {
      "text/plain": [
       "VendorID                     0\n",
       "tpep_pickup_datetime         0\n",
       "tpep_dropoff_datetime        0\n",
       "passenger_count          34362\n",
       "trip_distance                0\n",
       "RatecodeID               34362\n",
       "store_and_fwd_flag       34362\n",
       "PULocationID                 0\n",
       "DOLocationID                 0\n",
       "payment_type                 0\n",
       "fare_amount                  0\n",
       "airport_fee              34362\n",
       "dtype: int64"
      ]
     },
     "execution_count": 8,
     "metadata": {},
     "output_type": "execute_result"
    }
   ],
   "source": [
    "# Number of missing values in each column\n",
    "df0.isna().sum()"
   ]
  },
  {
   "cell_type": "code",
   "execution_count": 9,
   "id": "076d26c8",
   "metadata": {},
   "outputs": [
    {
     "data": {
      "text/plain": [
       "34362"
      ]
     },
     "execution_count": 9,
     "metadata": {},
     "output_type": "execute_result"
    }
   ],
   "source": [
    "# Number of rows have missing value/s\n",
    "df0.isna().any(axis=1).sum()"
   ]
  },
  {
   "cell_type": "code",
   "execution_count": 10,
   "id": "12feae7d",
   "metadata": {},
   "outputs": [
    {
     "name": "stdout",
     "output_type": "stream",
     "text": [
      "Percentage of rows with missing value/s: 3.440125182833613 %\n"
     ]
    }
   ],
   "source": [
    "# Percentage of rows have missing value/s\n",
    "print('Percentage of rows with missing value/s:',(df0.isna().any(axis=1).sum()/df0.shape[0])*100,'%')"
   ]
  },
  {
   "cell_type": "markdown",
   "id": "6d08ff00",
   "metadata": {},
   "source": [
    "We have 34362 rows (3.44% of the total rows in Dataset) with missing values in (passenger_count, RatecodeID, store_and_fwd_flag, airport_fee) columns."
   ]
  },
  {
   "cell_type": "code",
   "execution_count": 11,
   "id": "8758836f",
   "metadata": {},
   "outputs": [
    {
     "data": {
      "text/html": [
       "<div>\n",
       "<style scoped>\n",
       "    .dataframe tbody tr th:only-of-type {\n",
       "        vertical-align: middle;\n",
       "    }\n",
       "\n",
       "    .dataframe tbody tr th {\n",
       "        vertical-align: top;\n",
       "    }\n",
       "\n",
       "    .dataframe thead th {\n",
       "        text-align: right;\n",
       "    }\n",
       "</style>\n",
       "<table border=\"1\" class=\"dataframe\">\n",
       "  <thead>\n",
       "    <tr style=\"text-align: right;\">\n",
       "      <th></th>\n",
       "      <th>VendorID</th>\n",
       "      <th>tpep_pickup_datetime</th>\n",
       "      <th>tpep_dropoff_datetime</th>\n",
       "      <th>passenger_count</th>\n",
       "      <th>trip_distance</th>\n",
       "      <th>RatecodeID</th>\n",
       "      <th>store_and_fwd_flag</th>\n",
       "      <th>PULocationID</th>\n",
       "      <th>DOLocationID</th>\n",
       "      <th>payment_type</th>\n",
       "      <th>fare_amount</th>\n",
       "      <th>airport_fee</th>\n",
       "    </tr>\n",
       "  </thead>\n",
       "  <tbody>\n",
       "    <tr>\n",
       "      <th>60265</th>\n",
       "      <td>2</td>\n",
       "      <td>2022-01-01 00:50:00</td>\n",
       "      <td>2022-01-01 00:54:00</td>\n",
       "      <td>NaN</td>\n",
       "      <td>1.00</td>\n",
       "      <td>NaN</td>\n",
       "      <td>NaN</td>\n",
       "      <td>68</td>\n",
       "      <td>246</td>\n",
       "      <td>0</td>\n",
       "      <td>13.20</td>\n",
       "      <td>NaN</td>\n",
       "    </tr>\n",
       "    <tr>\n",
       "      <th>60266</th>\n",
       "      <td>2</td>\n",
       "      <td>2022-01-01 00:57:00</td>\n",
       "      <td>2022-01-01 01:37:00</td>\n",
       "      <td>NaN</td>\n",
       "      <td>14.94</td>\n",
       "      <td>NaN</td>\n",
       "      <td>NaN</td>\n",
       "      <td>238</td>\n",
       "      <td>257</td>\n",
       "      <td>0</td>\n",
       "      <td>47.13</td>\n",
       "      <td>NaN</td>\n",
       "    </tr>\n",
       "    <tr>\n",
       "      <th>60267</th>\n",
       "      <td>2</td>\n",
       "      <td>2022-01-01 00:13:00</td>\n",
       "      <td>2022-01-01 00:14:00</td>\n",
       "      <td>NaN</td>\n",
       "      <td>0.28</td>\n",
       "      <td>NaN</td>\n",
       "      <td>NaN</td>\n",
       "      <td>145</td>\n",
       "      <td>145</td>\n",
       "      <td>0</td>\n",
       "      <td>13.54</td>\n",
       "      <td>NaN</td>\n",
       "    </tr>\n",
       "    <tr>\n",
       "      <th>60268</th>\n",
       "      <td>2</td>\n",
       "      <td>2022-01-01 00:42:00</td>\n",
       "      <td>2022-01-01 00:51:00</td>\n",
       "      <td>NaN</td>\n",
       "      <td>1.54</td>\n",
       "      <td>NaN</td>\n",
       "      <td>NaN</td>\n",
       "      <td>142</td>\n",
       "      <td>50</td>\n",
       "      <td>0</td>\n",
       "      <td>13.20</td>\n",
       "      <td>NaN</td>\n",
       "    </tr>\n",
       "    <tr>\n",
       "      <th>60269</th>\n",
       "      <td>2</td>\n",
       "      <td>2022-01-01 01:22:41</td>\n",
       "      <td>2022-01-01 01:39:27</td>\n",
       "      <td>NaN</td>\n",
       "      <td>4.18</td>\n",
       "      <td>NaN</td>\n",
       "      <td>NaN</td>\n",
       "      <td>107</td>\n",
       "      <td>263</td>\n",
       "      <td>0</td>\n",
       "      <td>13.20</td>\n",
       "      <td>NaN</td>\n",
       "    </tr>\n",
       "  </tbody>\n",
       "</table>\n",
       "</div>"
      ],
      "text/plain": [
       "      VendorID tpep_pickup_datetime tpep_dropoff_datetime  passenger_count  \\\n",
       "60265        2  2022-01-01 00:50:00   2022-01-01 00:54:00              NaN   \n",
       "60266        2  2022-01-01 00:57:00   2022-01-01 01:37:00              NaN   \n",
       "60267        2  2022-01-01 00:13:00   2022-01-01 00:14:00              NaN   \n",
       "60268        2  2022-01-01 00:42:00   2022-01-01 00:51:00              NaN   \n",
       "60269        2  2022-01-01 01:22:41   2022-01-01 01:39:27              NaN   \n",
       "\n",
       "       trip_distance RatecodeID store_and_fwd_flag PULocationID DOLocationID  \\\n",
       "60265           1.00        NaN                NaN           68          246   \n",
       "60266          14.94        NaN                NaN          238          257   \n",
       "60267           0.28        NaN                NaN          145          145   \n",
       "60268           1.54        NaN                NaN          142           50   \n",
       "60269           4.18        NaN                NaN          107          263   \n",
       "\n",
       "      payment_type  fare_amount  airport_fee  \n",
       "60265            0        13.20          NaN  \n",
       "60266            0        47.13          NaN  \n",
       "60267            0        13.54          NaN  \n",
       "60268            0        13.20          NaN  \n",
       "60269            0        13.20          NaN  "
      ]
     },
     "execution_count": 11,
     "metadata": {},
     "output_type": "execute_result"
    }
   ],
   "source": [
    "# Investigating rows with missing values:\n",
    "mask = df0.isna().any(axis=1)\n",
    "df_missing = df0[mask]\n",
    "df_missing.head()"
   ]
  },
  {
   "cell_type": "code",
   "execution_count": 14,
   "id": "9da558d9",
   "metadata": {},
   "outputs": [
    {
     "data": {
      "text/html": [
       "<div>\n",
       "<style scoped>\n",
       "    .dataframe tbody tr th:only-of-type {\n",
       "        vertical-align: middle;\n",
       "    }\n",
       "\n",
       "    .dataframe tbody tr th {\n",
       "        vertical-align: top;\n",
       "    }\n",
       "\n",
       "    .dataframe thead th {\n",
       "        text-align: right;\n",
       "    }\n",
       "</style>\n",
       "<table border=\"1\" class=\"dataframe\">\n",
       "  <thead>\n",
       "    <tr style=\"text-align: right;\">\n",
       "      <th></th>\n",
       "      <th>VendorID</th>\n",
       "      <th>tpep_pickup_datetime</th>\n",
       "      <th>tpep_dropoff_datetime</th>\n",
       "      <th>passenger_count</th>\n",
       "      <th>trip_distance</th>\n",
       "      <th>RatecodeID</th>\n",
       "      <th>store_and_fwd_flag</th>\n",
       "      <th>PULocationID</th>\n",
       "      <th>DOLocationID</th>\n",
       "      <th>payment_type</th>\n",
       "      <th>fare_amount</th>\n",
       "      <th>airport_fee</th>\n",
       "    </tr>\n",
       "  </thead>\n",
       "  <tbody>\n",
       "    <tr>\n",
       "      <th>998854</th>\n",
       "      <td>2</td>\n",
       "      <td>2022-12-31 22:01:17</td>\n",
       "      <td>2022-12-31 22:19:28</td>\n",
       "      <td>NaN</td>\n",
       "      <td>5.50</td>\n",
       "      <td>NaN</td>\n",
       "      <td>NaN</td>\n",
       "      <td>234</td>\n",
       "      <td>263</td>\n",
       "      <td>0</td>\n",
       "      <td>30.47</td>\n",
       "      <td>NaN</td>\n",
       "    </tr>\n",
       "    <tr>\n",
       "      <th>998855</th>\n",
       "      <td>2</td>\n",
       "      <td>2022-12-31 22:55:02</td>\n",
       "      <td>2022-12-31 23:13:59</td>\n",
       "      <td>NaN</td>\n",
       "      <td>1.82</td>\n",
       "      <td>NaN</td>\n",
       "      <td>NaN</td>\n",
       "      <td>68</td>\n",
       "      <td>68</td>\n",
       "      <td>0</td>\n",
       "      <td>14.96</td>\n",
       "      <td>NaN</td>\n",
       "    </tr>\n",
       "    <tr>\n",
       "      <th>998856</th>\n",
       "      <td>2</td>\n",
       "      <td>2022-12-31 22:47:58</td>\n",
       "      <td>2022-12-31 22:48:57</td>\n",
       "      <td>NaN</td>\n",
       "      <td>0.00</td>\n",
       "      <td>NaN</td>\n",
       "      <td>NaN</td>\n",
       "      <td>42</td>\n",
       "      <td>42</td>\n",
       "      <td>0</td>\n",
       "      <td>-66.86</td>\n",
       "      <td>NaN</td>\n",
       "    </tr>\n",
       "    <tr>\n",
       "      <th>998857</th>\n",
       "      <td>1</td>\n",
       "      <td>2022-12-31 22:12:24</td>\n",
       "      <td>2022-12-31 22:24:10</td>\n",
       "      <td>NaN</td>\n",
       "      <td>0.00</td>\n",
       "      <td>NaN</td>\n",
       "      <td>NaN</td>\n",
       "      <td>140</td>\n",
       "      <td>43</td>\n",
       "      <td>0</td>\n",
       "      <td>25.30</td>\n",
       "      <td>NaN</td>\n",
       "    </tr>\n",
       "    <tr>\n",
       "      <th>998858</th>\n",
       "      <td>2</td>\n",
       "      <td>2022-12-31 23:02:54</td>\n",
       "      <td>2022-12-31 23:30:21</td>\n",
       "      <td>NaN</td>\n",
       "      <td>7.29</td>\n",
       "      <td>NaN</td>\n",
       "      <td>NaN</td>\n",
       "      <td>197</td>\n",
       "      <td>189</td>\n",
       "      <td>0</td>\n",
       "      <td>40.50</td>\n",
       "      <td>NaN</td>\n",
       "    </tr>\n",
       "  </tbody>\n",
       "</table>\n",
       "</div>"
      ],
      "text/plain": [
       "       VendorID tpep_pickup_datetime tpep_dropoff_datetime  passenger_count  \\\n",
       "998854        2  2022-12-31 22:01:17   2022-12-31 22:19:28              NaN   \n",
       "998855        2  2022-12-31 22:55:02   2022-12-31 23:13:59              NaN   \n",
       "998856        2  2022-12-31 22:47:58   2022-12-31 22:48:57              NaN   \n",
       "998857        1  2022-12-31 22:12:24   2022-12-31 22:24:10              NaN   \n",
       "998858        2  2022-12-31 23:02:54   2022-12-31 23:30:21              NaN   \n",
       "\n",
       "        trip_distance RatecodeID store_and_fwd_flag PULocationID DOLocationID  \\\n",
       "998854           5.50        NaN                NaN          234          263   \n",
       "998855           1.82        NaN                NaN           68           68   \n",
       "998856           0.00        NaN                NaN           42           42   \n",
       "998857           0.00        NaN                NaN          140           43   \n",
       "998858           7.29        NaN                NaN          197          189   \n",
       "\n",
       "       payment_type  fare_amount  airport_fee  \n",
       "998854            0        30.47          NaN  \n",
       "998855            0        14.96          NaN  \n",
       "998856            0       -66.86          NaN  \n",
       "998857            0        25.30          NaN  \n",
       "998858            0        40.50          NaN  "
      ]
     },
     "execution_count": 14,
     "metadata": {},
     "output_type": "execute_result"
    }
   ],
   "source": [
    "df_missing.tail()"
   ]
  },
  {
   "cell_type": "code",
   "execution_count": 90,
   "id": "f0d82386",
   "metadata": {},
   "outputs": [
    {
     "data": {
      "text/plain": [
       "<AxesSubplot:xlabel='tpep_pickup_datetime', ylabel='percentage'>"
      ]
     },
     "execution_count": 90,
     "metadata": {},
     "output_type": "execute_result"
    },
    {
     "data": {
      "image/png": "[encoded data removed]",
      "text/plain": [
       "<Figure size 1440x432 with 1 Axes>"
      ]
     },
     "metadata": {
      "needs_background": "light"
     },
     "output_type": "display_data"
    }
   ],
   "source": [
    "plt.figure(figsize=(20,6))\n",
    "df_date_missing = df_missing[['tpep_pickup_datetime','VendorID']]\n",
    "df_date_missing['tpep_pickup_datetime'] = df_date_missing['tpep_pickup_datetime'].dt.date\n",
    "df_date_missing = df_date_missing.groupby('tpep_pickup_datetime').count().reset_index().rename(columns={'VendorID':'trip_count'})\n",
    "df_date_missing['percentage'] = (df_date_missing['trip_count']/df_missing.shape[0])*100\n",
    "df_date_missing['missing'] = True\n",
    "df_date = df0[['tpep_pickup_datetime','VendorID']]\n",
    "df_date['tpep_pickup_datetime'] = df_date['tpep_pickup_datetime'].dt.date\n",
    "df_date = df_date.groupby('tpep_pickup_datetime').count().reset_index().rename(columns={'VendorID':'trip_count'})\n",
    "df_date['percentage'] = (df_date['trip_count']/df0.shape[0])*100\n",
    "df_date['missing'] = False\n",
    "df_date_combine = pd.concat([df_date_missing, df_date]).reset_index()\n",
    "df_date_combine = df_date_combine[df_date_combine['tpep_pickup_datetime']>=datetime.date(2022,1,1)].sort_values(by='tpep_pickup_datetime').reset_index()\n",
    "sns.lineplot(data = df_date_combine, x='tpep_pickup_datetime', y='percentage', hue='missing')"
   ]
  },
  {
   "cell_type": "code",
   "execution_count": 112,
   "id": "76f94b75",
   "metadata": {},
   "outputs": [
    {
     "data": {
      "text/plain": [
       "<AxesSubplot:xlabel='VendorID', ylabel='percentage'>"
      ]
     },
     "execution_count": 112,
     "metadata": {},
     "output_type": "execute_result"
    },
    {
     "data": {
      "image/png": "[encoded data removed]",
      "text/plain": [
       "<Figure size 432x288 with 1 Axes>"
      ]
     },
     "metadata": {
      "needs_background": "light"
     },
     "output_type": "display_data"
    }
   ],
   "source": [
    "df_vendor_missing = df_missing[['VendorID','trip_distance']].groupby('VendorID').count().reset_index().rename(columns={'trip_distance':'count'})\n",
    "df_vendor_missing['percentage'] = (df_vendor_missing['count']/df_missing.shape[0])*100\n",
    "df_vendor_missing['missing'] = True\n",
    "df_vendor = df0[['VendorID','trip_distance']].groupby('VendorID').count().reset_index().rename(columns={'trip_distance':'count'})\n",
    "df_vendor['percentage'] = (df_vendor['count']/df0.shape[0])*100\n",
    "df_vendor['missing'] = False\n",
    "df_vendor_combine = pd.concat([df_vendor_missing, df_vendor]).reset_index()\n",
    "sns.barplot(data=df_vendor_combine, x='VendorID', y='percentage', hue='missing')"
   ]
  },
  {
   "cell_type": "code",
   "execution_count": 24,
   "id": "6a820e3d",
   "metadata": {},
   "outputs": [
    {
     "data": {
      "text/plain": [
       "0    100.0\n",
       "1      0.0\n",
       "2      0.0\n",
       "3      0.0\n",
       "4      0.0\n",
       "Name: payment_type, dtype: float64"
      ]
     },
     "execution_count": 24,
     "metadata": {},
     "output_type": "execute_result"
    }
   ],
   "source": [
    "(df_missing['payment_type'].value_counts()/df_missing.shape[0])*100"
   ]
  },
  {
   "cell_type": "code",
   "execution_count": 25,
   "id": "9bdd8fef",
   "metadata": {},
   "outputs": [
    {
     "data": {
      "text/plain": [
       "1    75.879679\n",
       "2    19.576036\n",
       "0     3.440125\n",
       "4     0.616503\n",
       "3     0.487656\n",
       "Name: payment_type, dtype: float64"
      ]
     },
     "execution_count": 25,
     "metadata": {},
     "output_type": "execute_result"
    }
   ],
   "source": [
    "(df0['payment_type'].value_counts()/df0.shape[0])*100"
   ]
  },
  {
   "cell_type": "code",
   "execution_count": 33,
   "id": "f6e54ba2",
   "metadata": {},
   "outputs": [
    {
     "data": {
      "text/plain": [
       "<AxesSubplot:>"
      ]
     },
     "execution_count": 33,
     "metadata": {},
     "output_type": "execute_result"
    },
    {
     "data": {
      "image/png": "[encoded data removed]",
      "text/plain": [
       "<Figure size 432x288 with 1 Axes>"
      ]
     },
     "metadata": {
      "needs_background": "light"
     },
     "output_type": "display_data"
    }
   ],
   "source": [
    "sns.boxplot(data=[df0['trip_distance'],df_missing['trip_distance']], showfliers=False)"
   ]
  },
  {
   "cell_type": "code",
   "execution_count": 34,
   "id": "fd90ecc5",
   "metadata": {},
   "outputs": [
    {
     "data": {
      "text/plain": [
       "<AxesSubplot:>"
      ]
     },
     "execution_count": 34,
     "metadata": {},
     "output_type": "execute_result"
    },
    {
     "data": {
      "image/png": "[encoded data removed]",
      "text/plain": [
       "<Figure size 432x288 with 1 Axes>"
      ]
     },
     "metadata": {
      "needs_background": "light"
     },
     "output_type": "display_data"
    }
   ],
   "source": [
    "sns.boxplot(data=[df0['fare_amount'],df_missing['fare_amount']], showfliers=False)"
   ]
  },
  {
   "cell_type": "markdown",
   "id": "bdc50962",
   "metadata": {},
   "source": [
    "Because the records have missing values is not a large percentage of our dataset (3.44%), and the records have missing values in 4 columns, So I will drop this records from our dataset."
   ]
  },
  {
   "cell_type": "code",
   "execution_count": null,
   "id": "2cbb0a8d",
   "metadata": {},
   "outputs": [],
   "source": [
    "df = df0.dropna()\n",
    "df.head()"
   ]
  },
  {
   "cell_type": "code",
   "execution_count": null,
   "id": "ed3477bc",
   "metadata": {},
   "outputs": [],
   "source": [
    "# Checking if their any missing values yet.\n",
    "df.info()"
   ]
  },
  {
   "cell_type": "markdown",
   "id": "50b841dd",
   "metadata": {},
   "source": [
    "Now our dataset hasn't any missing values."
   ]
  },
  {
   "cell_type": "markdown",
   "id": "ee4c1c50",
   "metadata": {},
   "source": [
    "### 2.d <a id='outliers'></a> **Outliers:**"
   ]
  },
  {
   "cell_type": "code",
   "execution_count": null,
   "id": "4f4b5397",
   "metadata": {},
   "outputs": [],
   "source": []
  }
 ],
 "metadata": {
  "kernelspec": {
   "display_name": "Python 3 (ipykernel)",
   "language": "python",
   "name": "python3"
  },
  "language_info": {
   "codemirror_mode": {
    "name": "ipython",
    "version": 3
   },
   "file_extension": ".py",
   "mimetype": "text/x-python",
   "name": "python",
   "nbconvert_exporter": "python",
   "pygments_lexer": "ipython3",
   "version": "3.9.12"
  }
 },
 "nbformat": 4,
 "nbformat_minor": 5
}
