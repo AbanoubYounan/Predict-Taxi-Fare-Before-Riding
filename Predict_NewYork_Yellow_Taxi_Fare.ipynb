{
 "cells": [
  {
   "cell_type": "markdown",
   "id": "e3666c80",
   "metadata": {},
   "source": [
    "# **EXECUTIVE SUMMARY**    \n",
    "The objective of this project is to build a machine learning model that will predict taxicab trip fare before riding based on 2022 NYC Yellow Cab trip record data (https://data.cityofnewyork.us/Transportation/2022-Yellow-Taxi-Trip-Data/qp3b-zxtp).\n",
    "To that end, I will demonstrate the phases of the data science pipeline:\n",
    "1. **[Random Sampling](#sampl)** Make a Random Sample from the large original CSV file with (39.7 Milions rows & Size More than 3.5 GB) to make the analysis and modeling process more efficient: \n",
    "2. **[Preprocessing](#prep)**: Clean and transform the data into a usable format for analysis.\n",
    "3. **[Exploratory Analysis](#eda)**: Perform exploratory analysis to identify the best features to be used for modeling.  And Test the Models Assumptions to choose suitable model for the data\n",
    "4. **[Algorithm Development](#ml)**: Train, test, and refine various models to predict the target variable.  Given that our dependent variable `trip_duration` is a continuous outcome,  the regression algorithms to be protoyped are as follows:\n",
    " - [Multivarite Linear Regression](#linear)  \n",
    "\n",
    "\n",
    "5. **[Model Deployment](#deployment)**: Apply the best performing model to the test set for contest submission.\n",
    "\n",
    "\n",
    "# **ABOUT THE DATA**  \n",
    "The  dataset is based on the 2022 NYC Yellow Cab trip record data. Its variables are as follows:\n",
    "\n",
    "| **Variable Name** | **Description** | **Type**|          \n",
    "| :------------------ |:-------------|:-------------|   \n",
    "|vendor_id    | A code indicating the TPEP provider that provided the record.     | Number|\n",
    "|pickup_datetime |  date and time when the meter was engaged|  Data & Time|\n",
    "|dropoff_datetime|  date and time when the meter was disengaged|  Data & Time|\n",
    "|passenger_count|  the number of passengers in the vehicle (driver entered value)|  Number|\n",
    "|trip_distance |  The elapsed trip distance in miles reported by the taximeter.| Number|\n",
    "|RatecodeID | The final rate code in effect at the end of the trip. | Number |\n",
    "|PULocationID | TLC Taxi Zone in which the taximeter was engaged|  Number |\n",
    "|DOLocationID  |   TLC Taxi Zone in which the taximeter was disengaged|  Number |\n",
    "|store_and_fwd_flag | This flag indicates whether the trip record was held in vehicle memory before sending to the vendor because the vehicle did not have a connection to the server - Y=store and forward; N=not a store and forward trip   | Plain-text|\n",
    "|payment_type | A numeric code signifying how the passenger paid for the trip. | Number |\n",
    "|fare_amount | \tThe time-and-distance fare calculated by the meter. | Number |\n",
    "|extra | Miscellaneous extras and surcharges. | Number |\n",
    "|mta_tax | \tTax that is automatically triggered based on the metered rate in use.| Number |\n",
    "|tip_amount | This field is automatically populated for credit card tips. Cash tips are not included. | Number|\n",
    "|tolls_amount | Total amount of all tolls paid in trip. | Number |\n",
    "|improvement_surcharge | Improvement surcharge assessed trips at the flag drop. The improvement surcharge began being levied in 2015. | Number |\n",
    "|total_amount | The total amount charged to passengers. Does not include cash tips. | Number|\n",
    "|congestion_surcharge | Total amount collected in trip for NYS congestion surcharge. | Number |\n",
    "|airport_fee | For pick up only at LaGuardia and John F. Kennedy Airports. | Number |\n"
   ]
  },
  {
   "cell_type": "code",
   "execution_count": null,
   "id": "fc469ade",
   "metadata": {},
   "outputs": [],
   "source": []
  }
 ],
 "metadata": {
  "kernelspec": {
   "display_name": "Python 3 (ipykernel)",
   "language": "python",
   "name": "python3"
  },
  "language_info": {
   "codemirror_mode": {
    "name": "ipython",
    "version": 3
   },
   "file_extension": ".py",
   "mimetype": "text/x-python",
   "name": "python",
   "nbconvert_exporter": "python",
   "pygments_lexer": "ipython3",
   "version": "3.9.12"
  }
 },
 "nbformat": 4,
 "nbformat_minor": 5
}
